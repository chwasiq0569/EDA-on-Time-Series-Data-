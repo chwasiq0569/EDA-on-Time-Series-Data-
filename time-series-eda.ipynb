{
 "cells": [
  {
   "cell_type": "code",
   "execution_count": 1,
   "id": "742e1910",
   "metadata": {
    "_cell_guid": "b1076dfc-b9ad-4769-8c92-a6c4dae69d19",
    "_uuid": "8f2839f25d086af736a60e9eeb907d3b93b6e0e5",
    "execution": {
     "iopub.execute_input": "2023-04-19T18:55:34.583716Z",
     "iopub.status.busy": "2023-04-19T18:55:34.582739Z",
     "iopub.status.idle": "2023-04-19T18:55:34.650873Z",
     "shell.execute_reply": "2023-04-19T18:55:34.649486Z"
    },
    "papermill": {
     "duration": 0.084841,
     "end_time": "2023-04-19T18:55:34.654337",
     "exception": false,
     "start_time": "2023-04-19T18:55:34.569496",
     "status": "completed"
    },
    "tags": []
   },
   "outputs": [],
   "source": [
    "# This Python 3 environment comes with many helpful analytics libraries installed\n",
    "# It is defined by the kaggle/python Docker image: https://github.com/kaggle/docker-python\n",
    "# For example, here's several helpful packages to load\n",
    "\n",
    "import numpy as np # linear algebra\n",
    "import pandas as pd # data processing, CSV file I/O (e.g. pd.read_csv)\n",
    "import pandas_datareader as pdr\n",
    "from datetime import datetime\n",
    "import matplotlib.pyplot as plt\n",
    "# Input data files are available in the read-only \"../input/\" directory\n",
    "# For example, running this (by clicking run or pressing Shift+Enter) will list all files under the input directory\n",
    "\n",
    "import os\n",
    "for dirname, _, filenames in os.walk('/kaggle/input'):\n",
    "    for filename in filenames:\n",
    "        print(os.path.join(dirname, filename))\n",
    "\n",
    "# You can write up to 20GB to the current directory (/kaggle/working/) that gets preserved as output when you create a version using \"Save & Run All\" \n",
    "# You can also write temporary files to /kaggle/temp/, but they won't be saved outside of the current session"
   ]
  },
  {
   "cell_type": "code",
   "execution_count": 2,
   "id": "6a2db344",
   "metadata": {
    "execution": {
     "iopub.execute_input": "2023-04-19T18:55:34.673941Z",
     "iopub.status.busy": "2023-04-19T18:55:34.673495Z",
     "iopub.status.idle": "2023-04-19T18:55:47.609238Z",
     "shell.execute_reply": "2023-04-19T18:55:47.607217Z"
    },
    "papermill": {
     "duration": 12.948733,
     "end_time": "2023-04-19T18:55:47.612303",
     "exception": false,
     "start_time": "2023-04-19T18:55:34.663570",
     "status": "completed"
    },
    "tags": []
   },
   "outputs": [
    {
     "name": "stdout",
     "output_type": "stream",
     "text": [
      "Collecting yfinance\r\n",
      "  Downloading yfinance-0.2.18-py2.py3-none-any.whl (60 kB)\r\n",
      "\u001b[2K     \u001b[90m━━━━━━━━━━━━━━━━━━━━━━━━━━━━━━━━━━━━━━━━\u001b[0m \u001b[32m60.3/60.3 kB\u001b[0m \u001b[31m2.2 MB/s\u001b[0m eta \u001b[36m0:00:00\u001b[0m\r\n",
      "\u001b[?25hRequirement already satisfied: requests>=2.26 in /opt/conda/lib/python3.7/site-packages (from yfinance) (2.28.2)\r\n",
      "Requirement already satisfied: pandas>=1.3.0 in /opt/conda/lib/python3.7/site-packages (from yfinance) (1.3.5)\r\n",
      "Requirement already satisfied: cryptography>=3.3.2 in /opt/conda/lib/python3.7/site-packages (from yfinance) (38.0.2)\r\n",
      "Requirement already satisfied: numpy>=1.16.5 in /opt/conda/lib/python3.7/site-packages (from yfinance) (1.21.6)\r\n",
      "Requirement already satisfied: html5lib>=1.1 in /opt/conda/lib/python3.7/site-packages (from yfinance) (1.1)\r\n",
      "Requirement already satisfied: pytz>=2022.5 in /opt/conda/lib/python3.7/site-packages (from yfinance) (2022.7.1)\r\n",
      "Requirement already satisfied: beautifulsoup4>=4.11.1 in /opt/conda/lib/python3.7/site-packages (from yfinance) (4.11.1)\r\n",
      "Requirement already satisfied: appdirs>=1.4.4 in /opt/conda/lib/python3.7/site-packages (from yfinance) (1.4.4)\r\n",
      "Collecting multitasking>=0.0.7\r\n",
      "  Downloading multitasking-0.0.11-py3-none-any.whl (8.5 kB)\r\n",
      "Requirement already satisfied: frozendict>=2.3.4 in /opt/conda/lib/python3.7/site-packages (from yfinance) (2.3.6)\r\n",
      "Requirement already satisfied: lxml>=4.9.1 in /opt/conda/lib/python3.7/site-packages (from yfinance) (4.9.2)\r\n",
      "Requirement already satisfied: soupsieve>1.2 in /opt/conda/lib/python3.7/site-packages (from beautifulsoup4>=4.11.1->yfinance) (2.3.2.post1)\r\n",
      "Requirement already satisfied: cffi>=1.12 in /opt/conda/lib/python3.7/site-packages (from cryptography>=3.3.2->yfinance) (1.15.1)\r\n",
      "Requirement already satisfied: six>=1.9 in /opt/conda/lib/python3.7/site-packages (from html5lib>=1.1->yfinance) (1.16.0)\r\n",
      "Requirement already satisfied: webencodings in /opt/conda/lib/python3.7/site-packages (from html5lib>=1.1->yfinance) (0.5.1)\r\n",
      "Requirement already satisfied: python-dateutil>=2.7.3 in /opt/conda/lib/python3.7/site-packages (from pandas>=1.3.0->yfinance) (2.8.2)\r\n",
      "Requirement already satisfied: idna<4,>=2.5 in /opt/conda/lib/python3.7/site-packages (from requests>=2.26->yfinance) (3.4)\r\n",
      "Requirement already satisfied: charset-normalizer<4,>=2 in /opt/conda/lib/python3.7/site-packages (from requests>=2.26->yfinance) (2.1.1)\r\n",
      "Requirement already satisfied: certifi>=2017.4.17 in /opt/conda/lib/python3.7/site-packages (from requests>=2.26->yfinance) (2022.12.7)\r\n",
      "Requirement already satisfied: urllib3<1.27,>=1.21.1 in /opt/conda/lib/python3.7/site-packages (from requests>=2.26->yfinance) (1.26.14)\r\n",
      "Requirement already satisfied: pycparser in /opt/conda/lib/python3.7/site-packages (from cffi>=1.12->cryptography>=3.3.2->yfinance) (2.21)\r\n",
      "Installing collected packages: multitasking, yfinance\r\n",
      "Successfully installed multitasking-0.0.11 yfinance-0.2.18\r\n",
      "\u001b[33mWARNING: Running pip as the 'root' user can result in broken permissions and conflicting behaviour with the system package manager. It is recommended to use a virtual environment instead: https://pip.pypa.io/warnings/venv\u001b[0m\u001b[33m\r\n",
      "\u001b[0m"
     ]
    }
   ],
   "source": [
    "!pip install yfinance\n"
   ]
  },
  {
   "cell_type": "code",
   "execution_count": 3,
   "id": "5eaaa1f3",
   "metadata": {
    "execution": {
     "iopub.execute_input": "2023-04-19T18:55:47.634390Z",
     "iopub.status.busy": "2023-04-19T18:55:47.633973Z",
     "iopub.status.idle": "2023-04-19T18:55:47.943535Z",
     "shell.execute_reply": "2023-04-19T18:55:47.942257Z"
    },
    "papermill": {
     "duration": 0.323786,
     "end_time": "2023-04-19T18:55:47.946223",
     "exception": false,
     "start_time": "2023-04-19T18:55:47.622437",
     "status": "completed"
    },
    "tags": []
   },
   "outputs": [
    {
     "data": {
      "text/html": [
       "<div>\n",
       "<style scoped>\n",
       "    .dataframe tbody tr th:only-of-type {\n",
       "        vertical-align: middle;\n",
       "    }\n",
       "\n",
       "    .dataframe tbody tr th {\n",
       "        vertical-align: top;\n",
       "    }\n",
       "\n",
       "    .dataframe thead th {\n",
       "        text-align: right;\n",
       "    }\n",
       "</style>\n",
       "<table border=\"1\" class=\"dataframe\">\n",
       "  <thead>\n",
       "    <tr style=\"text-align: right;\">\n",
       "      <th></th>\n",
       "      <th>GS10</th>\n",
       "    </tr>\n",
       "    <tr>\n",
       "      <th>DATE</th>\n",
       "      <th></th>\n",
       "    </tr>\n",
       "  </thead>\n",
       "  <tbody>\n",
       "    <tr>\n",
       "      <th>2018-05-01</th>\n",
       "      <td>2.98</td>\n",
       "    </tr>\n",
       "    <tr>\n",
       "      <th>2018-06-01</th>\n",
       "      <td>2.91</td>\n",
       "    </tr>\n",
       "    <tr>\n",
       "      <th>2018-07-01</th>\n",
       "      <td>2.89</td>\n",
       "    </tr>\n",
       "    <tr>\n",
       "      <th>2018-08-01</th>\n",
       "      <td>2.89</td>\n",
       "    </tr>\n",
       "    <tr>\n",
       "      <th>2018-09-01</th>\n",
       "      <td>3.00</td>\n",
       "    </tr>\n",
       "    <tr>\n",
       "      <th>2018-10-01</th>\n",
       "      <td>3.15</td>\n",
       "    </tr>\n",
       "    <tr>\n",
       "      <th>2018-11-01</th>\n",
       "      <td>3.12</td>\n",
       "    </tr>\n",
       "    <tr>\n",
       "      <th>2018-12-01</th>\n",
       "      <td>2.83</td>\n",
       "    </tr>\n",
       "    <tr>\n",
       "      <th>2019-01-01</th>\n",
       "      <td>2.71</td>\n",
       "    </tr>\n",
       "    <tr>\n",
       "      <th>2019-02-01</th>\n",
       "      <td>2.68</td>\n",
       "    </tr>\n",
       "    <tr>\n",
       "      <th>2019-03-01</th>\n",
       "      <td>2.57</td>\n",
       "    </tr>\n",
       "    <tr>\n",
       "      <th>2019-04-01</th>\n",
       "      <td>2.53</td>\n",
       "    </tr>\n",
       "    <tr>\n",
       "      <th>2019-05-01</th>\n",
       "      <td>2.40</td>\n",
       "    </tr>\n",
       "    <tr>\n",
       "      <th>2019-06-01</th>\n",
       "      <td>2.07</td>\n",
       "    </tr>\n",
       "    <tr>\n",
       "      <th>2019-07-01</th>\n",
       "      <td>2.06</td>\n",
       "    </tr>\n",
       "    <tr>\n",
       "      <th>2019-08-01</th>\n",
       "      <td>1.63</td>\n",
       "    </tr>\n",
       "    <tr>\n",
       "      <th>2019-09-01</th>\n",
       "      <td>1.70</td>\n",
       "    </tr>\n",
       "    <tr>\n",
       "      <th>2019-10-01</th>\n",
       "      <td>1.71</td>\n",
       "    </tr>\n",
       "    <tr>\n",
       "      <th>2019-11-01</th>\n",
       "      <td>1.81</td>\n",
       "    </tr>\n",
       "    <tr>\n",
       "      <th>2019-12-01</th>\n",
       "      <td>1.86</td>\n",
       "    </tr>\n",
       "    <tr>\n",
       "      <th>2020-01-01</th>\n",
       "      <td>1.76</td>\n",
       "    </tr>\n",
       "    <tr>\n",
       "      <th>2020-02-01</th>\n",
       "      <td>1.50</td>\n",
       "    </tr>\n",
       "    <tr>\n",
       "      <th>2020-03-01</th>\n",
       "      <td>0.87</td>\n",
       "    </tr>\n",
       "    <tr>\n",
       "      <th>2020-04-01</th>\n",
       "      <td>0.66</td>\n",
       "    </tr>\n",
       "    <tr>\n",
       "      <th>2020-05-01</th>\n",
       "      <td>0.67</td>\n",
       "    </tr>\n",
       "    <tr>\n",
       "      <th>2020-06-01</th>\n",
       "      <td>0.73</td>\n",
       "    </tr>\n",
       "    <tr>\n",
       "      <th>2020-07-01</th>\n",
       "      <td>0.62</td>\n",
       "    </tr>\n",
       "    <tr>\n",
       "      <th>2020-08-01</th>\n",
       "      <td>0.65</td>\n",
       "    </tr>\n",
       "    <tr>\n",
       "      <th>2020-09-01</th>\n",
       "      <td>0.68</td>\n",
       "    </tr>\n",
       "    <tr>\n",
       "      <th>2020-10-01</th>\n",
       "      <td>0.79</td>\n",
       "    </tr>\n",
       "    <tr>\n",
       "      <th>2020-11-01</th>\n",
       "      <td>0.87</td>\n",
       "    </tr>\n",
       "    <tr>\n",
       "      <th>2020-12-01</th>\n",
       "      <td>0.93</td>\n",
       "    </tr>\n",
       "    <tr>\n",
       "      <th>2021-01-01</th>\n",
       "      <td>1.08</td>\n",
       "    </tr>\n",
       "    <tr>\n",
       "      <th>2021-02-01</th>\n",
       "      <td>1.26</td>\n",
       "    </tr>\n",
       "    <tr>\n",
       "      <th>2021-03-01</th>\n",
       "      <td>1.61</td>\n",
       "    </tr>\n",
       "    <tr>\n",
       "      <th>2021-04-01</th>\n",
       "      <td>1.64</td>\n",
       "    </tr>\n",
       "    <tr>\n",
       "      <th>2021-05-01</th>\n",
       "      <td>1.62</td>\n",
       "    </tr>\n",
       "    <tr>\n",
       "      <th>2021-06-01</th>\n",
       "      <td>1.52</td>\n",
       "    </tr>\n",
       "    <tr>\n",
       "      <th>2021-07-01</th>\n",
       "      <td>1.32</td>\n",
       "    </tr>\n",
       "    <tr>\n",
       "      <th>2021-08-01</th>\n",
       "      <td>1.28</td>\n",
       "    </tr>\n",
       "    <tr>\n",
       "      <th>2021-09-01</th>\n",
       "      <td>1.37</td>\n",
       "    </tr>\n",
       "    <tr>\n",
       "      <th>2021-10-01</th>\n",
       "      <td>1.58</td>\n",
       "    </tr>\n",
       "    <tr>\n",
       "      <th>2021-11-01</th>\n",
       "      <td>1.56</td>\n",
       "    </tr>\n",
       "    <tr>\n",
       "      <th>2021-12-01</th>\n",
       "      <td>1.47</td>\n",
       "    </tr>\n",
       "    <tr>\n",
       "      <th>2022-01-01</th>\n",
       "      <td>1.76</td>\n",
       "    </tr>\n",
       "    <tr>\n",
       "      <th>2022-02-01</th>\n",
       "      <td>1.93</td>\n",
       "    </tr>\n",
       "    <tr>\n",
       "      <th>2022-03-01</th>\n",
       "      <td>2.13</td>\n",
       "    </tr>\n",
       "    <tr>\n",
       "      <th>2022-04-01</th>\n",
       "      <td>2.75</td>\n",
       "    </tr>\n",
       "    <tr>\n",
       "      <th>2022-05-01</th>\n",
       "      <td>2.90</td>\n",
       "    </tr>\n",
       "    <tr>\n",
       "      <th>2022-06-01</th>\n",
       "      <td>3.14</td>\n",
       "    </tr>\n",
       "    <tr>\n",
       "      <th>2022-07-01</th>\n",
       "      <td>2.90</td>\n",
       "    </tr>\n",
       "    <tr>\n",
       "      <th>2022-08-01</th>\n",
       "      <td>2.90</td>\n",
       "    </tr>\n",
       "    <tr>\n",
       "      <th>2022-09-01</th>\n",
       "      <td>3.52</td>\n",
       "    </tr>\n",
       "    <tr>\n",
       "      <th>2022-10-01</th>\n",
       "      <td>3.98</td>\n",
       "    </tr>\n",
       "    <tr>\n",
       "      <th>2022-11-01</th>\n",
       "      <td>3.89</td>\n",
       "    </tr>\n",
       "    <tr>\n",
       "      <th>2022-12-01</th>\n",
       "      <td>3.62</td>\n",
       "    </tr>\n",
       "    <tr>\n",
       "      <th>2023-01-01</th>\n",
       "      <td>3.53</td>\n",
       "    </tr>\n",
       "    <tr>\n",
       "      <th>2023-02-01</th>\n",
       "      <td>3.75</td>\n",
       "    </tr>\n",
       "    <tr>\n",
       "      <th>2023-03-01</th>\n",
       "      <td>3.66</td>\n",
       "    </tr>\n",
       "  </tbody>\n",
       "</table>\n",
       "</div>"
      ],
      "text/plain": [
       "            GS10\n",
       "DATE            \n",
       "2018-05-01  2.98\n",
       "2018-06-01  2.91\n",
       "2018-07-01  2.89\n",
       "2018-08-01  2.89\n",
       "2018-09-01  3.00\n",
       "2018-10-01  3.15\n",
       "2018-11-01  3.12\n",
       "2018-12-01  2.83\n",
       "2019-01-01  2.71\n",
       "2019-02-01  2.68\n",
       "2019-03-01  2.57\n",
       "2019-04-01  2.53\n",
       "2019-05-01  2.40\n",
       "2019-06-01  2.07\n",
       "2019-07-01  2.06\n",
       "2019-08-01  1.63\n",
       "2019-09-01  1.70\n",
       "2019-10-01  1.71\n",
       "2019-11-01  1.81\n",
       "2019-12-01  1.86\n",
       "2020-01-01  1.76\n",
       "2020-02-01  1.50\n",
       "2020-03-01  0.87\n",
       "2020-04-01  0.66\n",
       "2020-05-01  0.67\n",
       "2020-06-01  0.73\n",
       "2020-07-01  0.62\n",
       "2020-08-01  0.65\n",
       "2020-09-01  0.68\n",
       "2020-10-01  0.79\n",
       "2020-11-01  0.87\n",
       "2020-12-01  0.93\n",
       "2021-01-01  1.08\n",
       "2021-02-01  1.26\n",
       "2021-03-01  1.61\n",
       "2021-04-01  1.64\n",
       "2021-05-01  1.62\n",
       "2021-06-01  1.52\n",
       "2021-07-01  1.32\n",
       "2021-08-01  1.28\n",
       "2021-09-01  1.37\n",
       "2021-10-01  1.58\n",
       "2021-11-01  1.56\n",
       "2021-12-01  1.47\n",
       "2022-01-01  1.76\n",
       "2022-02-01  1.93\n",
       "2022-03-01  2.13\n",
       "2022-04-01  2.75\n",
       "2022-05-01  2.90\n",
       "2022-06-01  3.14\n",
       "2022-07-01  2.90\n",
       "2022-08-01  2.90\n",
       "2022-09-01  3.52\n",
       "2022-10-01  3.98\n",
       "2022-11-01  3.89\n",
       "2022-12-01  3.62\n",
       "2023-01-01  3.53\n",
       "2023-02-01  3.75\n",
       "2023-03-01  3.66"
      ]
     },
     "execution_count": 3,
     "metadata": {},
     "output_type": "execute_result"
    }
   ],
   "source": [
    "import pandas_datareader as pdr\n",
    "pdr.get_data_fred('GS10')"
   ]
  },
  {
   "cell_type": "code",
   "execution_count": 4,
   "id": "109a6850",
   "metadata": {
    "execution": {
     "iopub.execute_input": "2023-04-19T18:55:47.968338Z",
     "iopub.status.busy": "2023-04-19T18:55:47.967920Z",
     "iopub.status.idle": "2023-04-19T18:55:48.733647Z",
     "shell.execute_reply": "2023-04-19T18:55:48.732308Z"
    },
    "papermill": {
     "duration": 0.780133,
     "end_time": "2023-04-19T18:55:48.736466",
     "exception": false,
     "start_time": "2023-04-19T18:55:47.956333",
     "status": "completed"
    },
    "tags": []
   },
   "outputs": [
    {
     "name": "stdout",
     "output_type": "stream",
     "text": [
      "[*********************100%***********************]  1 of 1 completed\n"
     ]
    },
    {
     "data": {
      "text/html": [
       "<div>\n",
       "<style scoped>\n",
       "    .dataframe tbody tr th:only-of-type {\n",
       "        vertical-align: middle;\n",
       "    }\n",
       "\n",
       "    .dataframe tbody tr th {\n",
       "        vertical-align: top;\n",
       "    }\n",
       "\n",
       "    .dataframe thead th {\n",
       "        text-align: right;\n",
       "    }\n",
       "</style>\n",
       "<table border=\"1\" class=\"dataframe\">\n",
       "  <thead>\n",
       "    <tr style=\"text-align: right;\">\n",
       "      <th></th>\n",
       "      <th>Open</th>\n",
       "      <th>High</th>\n",
       "      <th>Low</th>\n",
       "      <th>Close</th>\n",
       "      <th>Adj Close</th>\n",
       "      <th>Volume</th>\n",
       "    </tr>\n",
       "    <tr>\n",
       "      <th>Date</th>\n",
       "      <th></th>\n",
       "      <th></th>\n",
       "      <th></th>\n",
       "      <th></th>\n",
       "      <th></th>\n",
       "      <th></th>\n",
       "    </tr>\n",
       "  </thead>\n",
       "  <tbody>\n",
       "    <tr>\n",
       "      <th>2010-06-29</th>\n",
       "      <td>1.266667</td>\n",
       "      <td>1.666667</td>\n",
       "      <td>1.169333</td>\n",
       "      <td>1.592667</td>\n",
       "      <td>1.592667</td>\n",
       "      <td>281494500</td>\n",
       "    </tr>\n",
       "    <tr>\n",
       "      <th>2010-06-30</th>\n",
       "      <td>1.719333</td>\n",
       "      <td>2.028000</td>\n",
       "      <td>1.553333</td>\n",
       "      <td>1.588667</td>\n",
       "      <td>1.588667</td>\n",
       "      <td>257806500</td>\n",
       "    </tr>\n",
       "    <tr>\n",
       "      <th>2010-07-01</th>\n",
       "      <td>1.666667</td>\n",
       "      <td>1.728000</td>\n",
       "      <td>1.351333</td>\n",
       "      <td>1.464000</td>\n",
       "      <td>1.464000</td>\n",
       "      <td>123282000</td>\n",
       "    </tr>\n",
       "    <tr>\n",
       "      <th>2010-07-02</th>\n",
       "      <td>1.533333</td>\n",
       "      <td>1.540000</td>\n",
       "      <td>1.247333</td>\n",
       "      <td>1.280000</td>\n",
       "      <td>1.280000</td>\n",
       "      <td>77097000</td>\n",
       "    </tr>\n",
       "    <tr>\n",
       "      <th>2010-07-06</th>\n",
       "      <td>1.333333</td>\n",
       "      <td>1.333333</td>\n",
       "      <td>1.055333</td>\n",
       "      <td>1.074000</td>\n",
       "      <td>1.074000</td>\n",
       "      <td>103003500</td>\n",
       "    </tr>\n",
       "  </tbody>\n",
       "</table>\n",
       "</div>"
      ],
      "text/plain": [
       "                Open      High       Low     Close  Adj Close     Volume\n",
       "Date                                                                    \n",
       "2010-06-29  1.266667  1.666667  1.169333  1.592667   1.592667  281494500\n",
       "2010-06-30  1.719333  2.028000  1.553333  1.588667   1.588667  257806500\n",
       "2010-07-01  1.666667  1.728000  1.351333  1.464000   1.464000  123282000\n",
       "2010-07-02  1.533333  1.540000  1.247333  1.280000   1.280000   77097000\n",
       "2010-07-06  1.333333  1.333333  1.055333  1.074000   1.074000  103003500"
      ]
     },
     "execution_count": 4,
     "metadata": {},
     "output_type": "execute_result"
    }
   ],
   "source": [
    "import pandas\n",
    "from pandas_datareader import data as pdr\n",
    "import yfinance as yfin\n",
    "\n",
    "\n",
    "yfin.pdr_override()\n",
    "\n",
    "df_Tesla = pdr.get_data_yahoo('TSLA')\n",
    "\n",
    "df_Tesla.head()"
   ]
  },
  {
   "cell_type": "code",
   "execution_count": 5,
   "id": "226ea3aa",
   "metadata": {
    "execution": {
     "iopub.execute_input": "2023-04-19T18:55:48.759497Z",
     "iopub.status.busy": "2023-04-19T18:55:48.758909Z",
     "iopub.status.idle": "2023-04-19T18:55:48.767127Z",
     "shell.execute_reply": "2023-04-19T18:55:48.765920Z"
    },
    "papermill": {
     "duration": 0.022979,
     "end_time": "2023-04-19T18:55:48.769811",
     "exception": false,
     "start_time": "2023-04-19T18:55:48.746832",
     "status": "completed"
    },
    "tags": []
   },
   "outputs": [
    {
     "data": {
      "text/plain": [
       "(3224, 6)"
      ]
     },
     "execution_count": 5,
     "metadata": {},
     "output_type": "execute_result"
    }
   ],
   "source": [
    "df_Tesla.shape"
   ]
  },
  {
   "cell_type": "code",
   "execution_count": 6,
   "id": "a3d63dbe",
   "metadata": {
    "execution": {
     "iopub.execute_input": "2023-04-19T18:55:48.792834Z",
     "iopub.status.busy": "2023-04-19T18:55:48.792362Z",
     "iopub.status.idle": "2023-04-19T18:55:48.807680Z",
     "shell.execute_reply": "2023-04-19T18:55:48.806329Z"
    },
    "papermill": {
     "duration": 0.030145,
     "end_time": "2023-04-19T18:55:48.810379",
     "exception": false,
     "start_time": "2023-04-19T18:55:48.780234",
     "status": "completed"
    },
    "tags": []
   },
   "outputs": [
    {
     "data": {
      "text/html": [
       "<div>\n",
       "<style scoped>\n",
       "    .dataframe tbody tr th:only-of-type {\n",
       "        vertical-align: middle;\n",
       "    }\n",
       "\n",
       "    .dataframe tbody tr th {\n",
       "        vertical-align: top;\n",
       "    }\n",
       "\n",
       "    .dataframe thead th {\n",
       "        text-align: right;\n",
       "    }\n",
       "</style>\n",
       "<table border=\"1\" class=\"dataframe\">\n",
       "  <thead>\n",
       "    <tr style=\"text-align: right;\">\n",
       "      <th></th>\n",
       "      <th>Open</th>\n",
       "      <th>High</th>\n",
       "      <th>Low</th>\n",
       "      <th>Close</th>\n",
       "      <th>Adj Close</th>\n",
       "      <th>Volume</th>\n",
       "    </tr>\n",
       "    <tr>\n",
       "      <th>Date</th>\n",
       "      <th></th>\n",
       "      <th></th>\n",
       "      <th></th>\n",
       "      <th></th>\n",
       "      <th></th>\n",
       "      <th></th>\n",
       "    </tr>\n",
       "  </thead>\n",
       "  <tbody>\n",
       "    <tr>\n",
       "      <th>2023-04-13</th>\n",
       "      <td>182.960007</td>\n",
       "      <td>186.500000</td>\n",
       "      <td>180.940002</td>\n",
       "      <td>185.899994</td>\n",
       "      <td>185.899994</td>\n",
       "      <td>112933000</td>\n",
       "    </tr>\n",
       "    <tr>\n",
       "      <th>2023-04-14</th>\n",
       "      <td>183.949997</td>\n",
       "      <td>186.279999</td>\n",
       "      <td>182.009995</td>\n",
       "      <td>185.000000</td>\n",
       "      <td>185.000000</td>\n",
       "      <td>96306500</td>\n",
       "    </tr>\n",
       "    <tr>\n",
       "      <th>2023-04-17</th>\n",
       "      <td>186.320007</td>\n",
       "      <td>189.690002</td>\n",
       "      <td>182.690002</td>\n",
       "      <td>187.039993</td>\n",
       "      <td>187.039993</td>\n",
       "      <td>116662200</td>\n",
       "    </tr>\n",
       "    <tr>\n",
       "      <th>2023-04-18</th>\n",
       "      <td>187.149994</td>\n",
       "      <td>187.690002</td>\n",
       "      <td>183.580002</td>\n",
       "      <td>184.309998</td>\n",
       "      <td>184.309998</td>\n",
       "      <td>91820400</td>\n",
       "    </tr>\n",
       "    <tr>\n",
       "      <th>2023-04-19</th>\n",
       "      <td>179.100006</td>\n",
       "      <td>183.249893</td>\n",
       "      <td>177.649994</td>\n",
       "      <td>182.681305</td>\n",
       "      <td>182.681305</td>\n",
       "      <td>85533591</td>\n",
       "    </tr>\n",
       "  </tbody>\n",
       "</table>\n",
       "</div>"
      ],
      "text/plain": [
       "                  Open        High         Low       Close   Adj Close  \\\n",
       "Date                                                                     \n",
       "2023-04-13  182.960007  186.500000  180.940002  185.899994  185.899994   \n",
       "2023-04-14  183.949997  186.279999  182.009995  185.000000  185.000000   \n",
       "2023-04-17  186.320007  189.690002  182.690002  187.039993  187.039993   \n",
       "2023-04-18  187.149994  187.690002  183.580002  184.309998  184.309998   \n",
       "2023-04-19  179.100006  183.249893  177.649994  182.681305  182.681305   \n",
       "\n",
       "               Volume  \n",
       "Date                   \n",
       "2023-04-13  112933000  \n",
       "2023-04-14   96306500  \n",
       "2023-04-17  116662200  \n",
       "2023-04-18   91820400  \n",
       "2023-04-19   85533591  "
      ]
     },
     "execution_count": 6,
     "metadata": {},
     "output_type": "execute_result"
    }
   ],
   "source": [
    "df_Tesla.tail()"
   ]
  },
  {
   "cell_type": "code",
   "execution_count": 7,
   "id": "4f7a7d81",
   "metadata": {
    "execution": {
     "iopub.execute_input": "2023-04-19T18:55:48.833978Z",
     "iopub.status.busy": "2023-04-19T18:55:48.833400Z",
     "iopub.status.idle": "2023-04-19T18:55:48.868178Z",
     "shell.execute_reply": "2023-04-19T18:55:48.866822Z"
    },
    "papermill": {
     "duration": 0.049793,
     "end_time": "2023-04-19T18:55:48.870927",
     "exception": false,
     "start_time": "2023-04-19T18:55:48.821134",
     "status": "completed"
    },
    "tags": []
   },
   "outputs": [
    {
     "data": {
      "text/html": [
       "<div>\n",
       "<style scoped>\n",
       "    .dataframe tbody tr th:only-of-type {\n",
       "        vertical-align: middle;\n",
       "    }\n",
       "\n",
       "    .dataframe tbody tr th {\n",
       "        vertical-align: top;\n",
       "    }\n",
       "\n",
       "    .dataframe thead th {\n",
       "        text-align: right;\n",
       "    }\n",
       "</style>\n",
       "<table border=\"1\" class=\"dataframe\">\n",
       "  <thead>\n",
       "    <tr style=\"text-align: right;\">\n",
       "      <th></th>\n",
       "      <th>Open</th>\n",
       "      <th>High</th>\n",
       "      <th>Low</th>\n",
       "      <th>Close</th>\n",
       "      <th>Adj Close</th>\n",
       "      <th>Volume</th>\n",
       "    </tr>\n",
       "  </thead>\n",
       "  <tbody>\n",
       "    <tr>\n",
       "      <th>count</th>\n",
       "      <td>3224.000000</td>\n",
       "      <td>3224.000000</td>\n",
       "      <td>3224.000000</td>\n",
       "      <td>3224.000000</td>\n",
       "      <td>3224.000000</td>\n",
       "      <td>3.224000e+03</td>\n",
       "    </tr>\n",
       "    <tr>\n",
       "      <th>mean</th>\n",
       "      <td>61.539698</td>\n",
       "      <td>62.930011</td>\n",
       "      <td>60.016684</td>\n",
       "      <td>61.505578</td>\n",
       "      <td>61.505578</td>\n",
       "      <td>9.526299e+07</td>\n",
       "    </tr>\n",
       "    <tr>\n",
       "      <th>std</th>\n",
       "      <td>96.260811</td>\n",
       "      <td>98.480872</td>\n",
       "      <td>93.768782</td>\n",
       "      <td>96.151130</td>\n",
       "      <td>96.151130</td>\n",
       "      <td>8.171423e+07</td>\n",
       "    </tr>\n",
       "    <tr>\n",
       "      <th>min</th>\n",
       "      <td>1.076000</td>\n",
       "      <td>1.108667</td>\n",
       "      <td>0.998667</td>\n",
       "      <td>1.053333</td>\n",
       "      <td>1.053333</td>\n",
       "      <td>1.777500e+06</td>\n",
       "    </tr>\n",
       "    <tr>\n",
       "      <th>25%</th>\n",
       "      <td>9.454500</td>\n",
       "      <td>9.661834</td>\n",
       "      <td>9.227333</td>\n",
       "      <td>9.460000</td>\n",
       "      <td>9.460000</td>\n",
       "      <td>4.341975e+07</td>\n",
       "    </tr>\n",
       "    <tr>\n",
       "      <th>50%</th>\n",
       "      <td>16.476000</td>\n",
       "      <td>16.694667</td>\n",
       "      <td>16.242333</td>\n",
       "      <td>16.474667</td>\n",
       "      <td>16.474667</td>\n",
       "      <td>7.727970e+07</td>\n",
       "    </tr>\n",
       "    <tr>\n",
       "      <th>75%</th>\n",
       "      <td>34.389335</td>\n",
       "      <td>35.941333</td>\n",
       "      <td>33.486000</td>\n",
       "      <td>34.947667</td>\n",
       "      <td>34.947667</td>\n",
       "      <td>1.208283e+08</td>\n",
       "    </tr>\n",
       "    <tr>\n",
       "      <th>max</th>\n",
       "      <td>411.470001</td>\n",
       "      <td>414.496674</td>\n",
       "      <td>405.666656</td>\n",
       "      <td>409.970001</td>\n",
       "      <td>409.970001</td>\n",
       "      <td>9.140820e+08</td>\n",
       "    </tr>\n",
       "  </tbody>\n",
       "</table>\n",
       "</div>"
      ],
      "text/plain": [
       "              Open         High          Low        Close    Adj Close  \\\n",
       "count  3224.000000  3224.000000  3224.000000  3224.000000  3224.000000   \n",
       "mean     61.539698    62.930011    60.016684    61.505578    61.505578   \n",
       "std      96.260811    98.480872    93.768782    96.151130    96.151130   \n",
       "min       1.076000     1.108667     0.998667     1.053333     1.053333   \n",
       "25%       9.454500     9.661834     9.227333     9.460000     9.460000   \n",
       "50%      16.476000    16.694667    16.242333    16.474667    16.474667   \n",
       "75%      34.389335    35.941333    33.486000    34.947667    34.947667   \n",
       "max     411.470001   414.496674   405.666656   409.970001   409.970001   \n",
       "\n",
       "             Volume  \n",
       "count  3.224000e+03  \n",
       "mean   9.526299e+07  \n",
       "std    8.171423e+07  \n",
       "min    1.777500e+06  \n",
       "25%    4.341975e+07  \n",
       "50%    7.727970e+07  \n",
       "75%    1.208283e+08  \n",
       "max    9.140820e+08  "
      ]
     },
     "execution_count": 7,
     "metadata": {},
     "output_type": "execute_result"
    }
   ],
   "source": [
    "df_Tesla.describe()"
   ]
  },
  {
   "cell_type": "code",
   "execution_count": 8,
   "id": "f969d333",
   "metadata": {
    "execution": {
     "iopub.execute_input": "2023-04-19T18:55:48.896009Z",
     "iopub.status.busy": "2023-04-19T18:55:48.895289Z",
     "iopub.status.idle": "2023-04-19T18:55:49.375091Z",
     "shell.execute_reply": "2023-04-19T18:55:49.373712Z"
    },
    "papermill": {
     "duration": 0.495321,
     "end_time": "2023-04-19T18:55:49.378036",
     "exception": false,
     "start_time": "2023-04-19T18:55:48.882715",
     "status": "completed"
    },
    "tags": []
   },
   "outputs": [
    {
     "data": {
      "text/plain": [
       "<AxesSubplot:xlabel='Date'>"
      ]
     },
     "execution_count": 8,
     "metadata": {},
     "output_type": "execute_result"
    },
    {
     "data": {
      "image/png": "[encoded data removed]",
      "text/plain": [
       "<Figure size 640x480 with 1 Axes>"
      ]
     },
     "metadata": {},
     "output_type": "display_data"
    }
   ],
   "source": [
    "df_Tesla.plot()"
   ]
  },
  {
   "cell_type": "code",
   "execution_count": 9,
   "id": "17969c93",
   "metadata": {
    "execution": {
     "iopub.execute_input": "2023-04-19T18:55:49.403200Z",
     "iopub.status.busy": "2023-04-19T18:55:49.402798Z",
     "iopub.status.idle": "2023-04-19T18:55:49.718547Z",
     "shell.execute_reply": "2023-04-19T18:55:49.717120Z"
    },
    "papermill": {
     "duration": 0.331658,
     "end_time": "2023-04-19T18:55:49.721324",
     "exception": false,
     "start_time": "2023-04-19T18:55:49.389666",
     "status": "completed"
    },
    "tags": []
   },
   "outputs": [
    {
     "data": {
      "text/plain": [
       "<AxesSubplot:xlabel='Date'>"
      ]
     },
     "execution_count": 9,
     "metadata": {},
     "output_type": "execute_result"
    },
    {
     "data": {
      "image/png": "[encoded data removed]",
      "text/plain": [
       "<Figure size 1200x400 with 1 Axes>"
      ]
     },
     "metadata": {},
     "output_type": "display_data"
    }
   ],
   "source": [
    "df_Tesla['High'].plot(xlim=['2020-01-01', '2021-09-01'], figsize=(12,4), c='green')"
   ]
  },
  {
   "cell_type": "code",
   "execution_count": 10,
   "id": "f2e34da9",
   "metadata": {
    "execution": {
     "iopub.execute_input": "2023-04-19T18:55:49.749479Z",
     "iopub.status.busy": "2023-04-19T18:55:49.748917Z",
     "iopub.status.idle": "2023-04-19T18:55:49.769263Z",
     "shell.execute_reply": "2023-04-19T18:55:49.768294Z"
    },
    "papermill": {
     "duration": 0.037009,
     "end_time": "2023-04-19T18:55:49.771552",
     "exception": false,
     "start_time": "2023-04-19T18:55:49.734543",
     "status": "completed"
    },
    "tags": []
   },
   "outputs": [
    {
     "data": {
      "text/html": [
       "<div>\n",
       "<style scoped>\n",
       "    .dataframe tbody tr th:only-of-type {\n",
       "        vertical-align: middle;\n",
       "    }\n",
       "\n",
       "    .dataframe tbody tr th {\n",
       "        vertical-align: top;\n",
       "    }\n",
       "\n",
       "    .dataframe thead th {\n",
       "        text-align: right;\n",
       "    }\n",
       "</style>\n",
       "<table border=\"1\" class=\"dataframe\">\n",
       "  <thead>\n",
       "    <tr style=\"text-align: right;\">\n",
       "      <th></th>\n",
       "      <th>Open</th>\n",
       "      <th>High</th>\n",
       "      <th>Low</th>\n",
       "      <th>Close</th>\n",
       "      <th>Adj Close</th>\n",
       "      <th>Volume</th>\n",
       "    </tr>\n",
       "    <tr>\n",
       "      <th>Date</th>\n",
       "      <th></th>\n",
       "      <th></th>\n",
       "      <th></th>\n",
       "      <th></th>\n",
       "      <th></th>\n",
       "      <th></th>\n",
       "    </tr>\n",
       "  </thead>\n",
       "  <tbody>\n",
       "    <tr>\n",
       "      <th>2020-01-02</th>\n",
       "      <td>28.299999</td>\n",
       "      <td>28.713333</td>\n",
       "      <td>28.114000</td>\n",
       "      <td>28.684000</td>\n",
       "      <td>28.684000</td>\n",
       "      <td>142981500</td>\n",
       "    </tr>\n",
       "    <tr>\n",
       "      <th>2020-01-03</th>\n",
       "      <td>29.366667</td>\n",
       "      <td>30.266666</td>\n",
       "      <td>29.128000</td>\n",
       "      <td>29.534000</td>\n",
       "      <td>29.534000</td>\n",
       "      <td>266677500</td>\n",
       "    </tr>\n",
       "    <tr>\n",
       "      <th>2020-01-06</th>\n",
       "      <td>29.364668</td>\n",
       "      <td>30.104000</td>\n",
       "      <td>29.333332</td>\n",
       "      <td>30.102667</td>\n",
       "      <td>30.102667</td>\n",
       "      <td>151995000</td>\n",
       "    </tr>\n",
       "    <tr>\n",
       "      <th>2020-01-07</th>\n",
       "      <td>30.760000</td>\n",
       "      <td>31.441999</td>\n",
       "      <td>30.224001</td>\n",
       "      <td>31.270666</td>\n",
       "      <td>31.270666</td>\n",
       "      <td>268231500</td>\n",
       "    </tr>\n",
       "    <tr>\n",
       "      <th>2020-01-08</th>\n",
       "      <td>31.580000</td>\n",
       "      <td>33.232666</td>\n",
       "      <td>31.215334</td>\n",
       "      <td>32.809334</td>\n",
       "      <td>32.809334</td>\n",
       "      <td>467164500</td>\n",
       "    </tr>\n",
       "    <tr>\n",
       "      <th>...</th>\n",
       "      <td>...</td>\n",
       "      <td>...</td>\n",
       "      <td>...</td>\n",
       "      <td>...</td>\n",
       "      <td>...</td>\n",
       "      <td>...</td>\n",
       "    </tr>\n",
       "    <tr>\n",
       "      <th>2021-08-26</th>\n",
       "      <td>236.103333</td>\n",
       "      <td>238.466660</td>\n",
       "      <td>232.539993</td>\n",
       "      <td>233.720001</td>\n",
       "      <td>233.720001</td>\n",
       "      <td>39642900</td>\n",
       "    </tr>\n",
       "    <tr>\n",
       "      <th>2021-08-27</th>\n",
       "      <td>235.000000</td>\n",
       "      <td>238.333328</td>\n",
       "      <td>234.033340</td>\n",
       "      <td>237.306671</td>\n",
       "      <td>237.306671</td>\n",
       "      <td>41501400</td>\n",
       "    </tr>\n",
       "    <tr>\n",
       "      <th>2021-08-30</th>\n",
       "      <td>238.240005</td>\n",
       "      <td>243.666672</td>\n",
       "      <td>237.576660</td>\n",
       "      <td>243.636673</td>\n",
       "      <td>243.636673</td>\n",
       "      <td>55812600</td>\n",
       "    </tr>\n",
       "    <tr>\n",
       "      <th>2021-08-31</th>\n",
       "      <td>244.333328</td>\n",
       "      <td>246.796661</td>\n",
       "      <td>242.146667</td>\n",
       "      <td>245.240005</td>\n",
       "      <td>245.240005</td>\n",
       "      <td>62566200</td>\n",
       "    </tr>\n",
       "    <tr>\n",
       "      <th>2021-09-01</th>\n",
       "      <td>244.693329</td>\n",
       "      <td>247.330002</td>\n",
       "      <td>243.756668</td>\n",
       "      <td>244.696671</td>\n",
       "      <td>244.696671</td>\n",
       "      <td>39612900</td>\n",
       "    </tr>\n",
       "  </tbody>\n",
       "</table>\n",
       "<p>421 rows × 6 columns</p>\n",
       "</div>"
      ],
      "text/plain": [
       "                  Open        High         Low       Close   Adj Close  \\\n",
       "Date                                                                     \n",
       "2020-01-02   28.299999   28.713333   28.114000   28.684000   28.684000   \n",
       "2020-01-03   29.366667   30.266666   29.128000   29.534000   29.534000   \n",
       "2020-01-06   29.364668   30.104000   29.333332   30.102667   30.102667   \n",
       "2020-01-07   30.760000   31.441999   30.224001   31.270666   31.270666   \n",
       "2020-01-08   31.580000   33.232666   31.215334   32.809334   32.809334   \n",
       "...                ...         ...         ...         ...         ...   \n",
       "2021-08-26  236.103333  238.466660  232.539993  233.720001  233.720001   \n",
       "2021-08-27  235.000000  238.333328  234.033340  237.306671  237.306671   \n",
       "2021-08-30  238.240005  243.666672  237.576660  243.636673  243.636673   \n",
       "2021-08-31  244.333328  246.796661  242.146667  245.240005  245.240005   \n",
       "2021-09-01  244.693329  247.330002  243.756668  244.696671  244.696671   \n",
       "\n",
       "               Volume  \n",
       "Date                   \n",
       "2020-01-02  142981500  \n",
       "2020-01-03  266677500  \n",
       "2020-01-06  151995000  \n",
       "2020-01-07  268231500  \n",
       "2020-01-08  467164500  \n",
       "...               ...  \n",
       "2021-08-26   39642900  \n",
       "2021-08-27   41501400  \n",
       "2021-08-30   55812600  \n",
       "2021-08-31   62566200  \n",
       "2021-09-01   39612900  \n",
       "\n",
       "[421 rows x 6 columns]"
      ]
     },
     "execution_count": 10,
     "metadata": {},
     "output_type": "execute_result"
    }
   ],
   "source": [
    "df_Tesla.loc['2020-01-01':'2021-09-01']"
   ]
  },
  {
   "cell_type": "code",
   "execution_count": 11,
   "id": "43282bfb",
   "metadata": {
    "execution": {
     "iopub.execute_input": "2023-04-19T18:55:49.799681Z",
     "iopub.status.busy": "2023-04-19T18:55:49.798881Z",
     "iopub.status.idle": "2023-04-19T18:55:49.808435Z",
     "shell.execute_reply": "2023-04-19T18:55:49.807048Z"
    },
    "papermill": {
     "duration": 0.026851,
     "end_time": "2023-04-19T18:55:49.811343",
     "exception": false,
     "start_time": "2023-04-19T18:55:49.784492",
     "status": "completed"
    },
    "tags": []
   },
   "outputs": [],
   "source": [
    "index=df_Tesla.loc['2020-01-01':'2021-09-01'].index\n",
    "share_open=df_Tesla.loc['2020-01-01':'2021-09-01']['Open']"
   ]
  },
  {
   "cell_type": "code",
   "execution_count": 12,
   "id": "d4f1d425",
   "metadata": {
    "execution": {
     "iopub.execute_input": "2023-04-19T18:55:49.841286Z",
     "iopub.status.busy": "2023-04-19T18:55:49.840203Z",
     "iopub.status.idle": "2023-04-19T18:55:49.849122Z",
     "shell.execute_reply": "2023-04-19T18:55:49.847712Z"
    },
    "papermill": {
     "duration": 0.026476,
     "end_time": "2023-04-19T18:55:49.851519",
     "exception": false,
     "start_time": "2023-04-19T18:55:49.825043",
     "status": "completed"
    },
    "tags": []
   },
   "outputs": [
    {
     "data": {
      "text/plain": [
       "DatetimeIndex(['2020-01-02', '2020-01-03', '2020-01-06', '2020-01-07',\n",
       "               '2020-01-08', '2020-01-09', '2020-01-10', '2020-01-13',\n",
       "               '2020-01-14', '2020-01-15',\n",
       "               ...\n",
       "               '2021-08-19', '2021-08-20', '2021-08-23', '2021-08-24',\n",
       "               '2021-08-25', '2021-08-26', '2021-08-27', '2021-08-30',\n",
       "               '2021-08-31', '2021-09-01'],\n",
       "              dtype='datetime64[ns]', name='Date', length=421, freq=None)"
      ]
     },
     "execution_count": 12,
     "metadata": {},
     "output_type": "execute_result"
    }
   ],
   "source": [
    "index"
   ]
  },
  {
   "cell_type": "code",
   "execution_count": 13,
   "id": "cdc62de8",
   "metadata": {
    "execution": {
     "iopub.execute_input": "2023-04-19T18:55:49.879393Z",
     "iopub.status.busy": "2023-04-19T18:55:49.878991Z",
     "iopub.status.idle": "2023-04-19T18:55:49.886545Z",
     "shell.execute_reply": "2023-04-19T18:55:49.884644Z"
    },
    "papermill": {
     "duration": 0.024687,
     "end_time": "2023-04-19T18:55:49.889428",
     "exception": false,
     "start_time": "2023-04-19T18:55:49.864741",
     "status": "completed"
    },
    "tags": []
   },
   "outputs": [],
   "source": [
    "%matplotlib inline"
   ]
  },
  {
   "cell_type": "code",
   "execution_count": 14,
   "id": "187a3ea4",
   "metadata": {
    "execution": {
     "iopub.execute_input": "2023-04-19T18:55:49.920068Z",
     "iopub.status.busy": "2023-04-19T18:55:49.919575Z",
     "iopub.status.idle": "2023-04-19T18:55:50.254709Z",
     "shell.execute_reply": "2023-04-19T18:55:50.253745Z"
    },
    "papermill": {
     "duration": 0.352482,
     "end_time": "2023-04-19T18:55:50.257018",
     "exception": false,
     "start_time": "2023-04-19T18:55:49.904536",
     "status": "completed"
    },
    "tags": []
   },
   "outputs": [
    {
     "data": {
      "text/plain": [
       "[<matplotlib.lines.Line2D at 0x7121d165db50>]"
      ]
     },
     "execution_count": 14,
     "metadata": {},
     "output_type": "execute_result"
    },
    {
     "data": {
      "image/png": "[encoded data removed]",
      "text/plain": [
       "<Figure size 640x480 with 1 Axes>"
      ]
     },
     "metadata": {},
     "output_type": "display_data"
    }
   ],
   "source": [
    "figure,axis=plt.subplots()\n",
    "plt.tight_layout()\n",
    "figure.autofmt_xdate()\n",
    "axis.plot(index, share_open)"
   ]
  },
  {
   "cell_type": "code",
   "execution_count": 15,
   "id": "8167c5f7",
   "metadata": {
    "execution": {
     "iopub.execute_input": "2023-04-19T18:55:50.287460Z",
     "iopub.status.busy": "2023-04-19T18:55:50.286698Z",
     "iopub.status.idle": "2023-04-19T18:55:50.292319Z",
     "shell.execute_reply": "2023-04-19T18:55:50.291292Z"
    },
    "papermill": {
     "duration": 0.023463,
     "end_time": "2023-04-19T18:55:50.294622",
     "exception": false,
     "start_time": "2023-04-19T18:55:50.271159",
     "status": "completed"
    },
    "tags": []
   },
   "outputs": [],
   "source": [
    "df_Tesla=df_Tesla.reset_index()"
   ]
  },
  {
   "cell_type": "code",
   "execution_count": 16,
   "id": "96f96739",
   "metadata": {
    "execution": {
     "iopub.execute_input": "2023-04-19T18:55:50.324488Z",
     "iopub.status.busy": "2023-04-19T18:55:50.323746Z",
     "iopub.status.idle": "2023-04-19T18:55:50.340085Z",
     "shell.execute_reply": "2023-04-19T18:55:50.338538Z"
    },
    "papermill": {
     "duration": 0.034225,
     "end_time": "2023-04-19T18:55:50.342727",
     "exception": false,
     "start_time": "2023-04-19T18:55:50.308502",
     "status": "completed"
    },
    "tags": []
   },
   "outputs": [
    {
     "name": "stdout",
     "output_type": "stream",
     "text": [
      "<class 'pandas.core.frame.DataFrame'>\n",
      "RangeIndex: 3224 entries, 0 to 3223\n",
      "Data columns (total 7 columns):\n",
      " #   Column     Non-Null Count  Dtype         \n",
      "---  ------     --------------  -----         \n",
      " 0   Date       3224 non-null   datetime64[ns]\n",
      " 1   Open       3224 non-null   float64       \n",
      " 2   High       3224 non-null   float64       \n",
      " 3   Low        3224 non-null   float64       \n",
      " 4   Close      3224 non-null   float64       \n",
      " 5   Adj Close  3224 non-null   float64       \n",
      " 6   Volume     3224 non-null   int64         \n",
      "dtypes: datetime64[ns](1), float64(5), int64(1)\n",
      "memory usage: 176.4 KB\n"
     ]
    }
   ],
   "source": [
    "df_Tesla.info()"
   ]
  },
  {
   "cell_type": "code",
   "execution_count": 17,
   "id": "bee8c285",
   "metadata": {
    "execution": {
     "iopub.execute_input": "2023-04-19T18:55:50.372712Z",
     "iopub.status.busy": "2023-04-19T18:55:50.371465Z",
     "iopub.status.idle": "2023-04-19T18:55:50.377734Z",
     "shell.execute_reply": "2023-04-19T18:55:50.376798Z"
    },
    "papermill": {
     "duration": 0.023888,
     "end_time": "2023-04-19T18:55:50.380376",
     "exception": false,
     "start_time": "2023-04-19T18:55:50.356488",
     "status": "completed"
    },
    "tags": []
   },
   "outputs": [],
   "source": [
    "df_Tesla = df_Tesla.set_index('Date', drop=True)"
   ]
  },
  {
   "cell_type": "code",
   "execution_count": 18,
   "id": "e0b0d4b2",
   "metadata": {
    "execution": {
     "iopub.execute_input": "2023-04-19T18:55:50.410902Z",
     "iopub.status.busy": "2023-04-19T18:55:50.410146Z",
     "iopub.status.idle": "2023-04-19T18:55:50.424167Z",
     "shell.execute_reply": "2023-04-19T18:55:50.423203Z"
    },
    "papermill": {
     "duration": 0.032063,
     "end_time": "2023-04-19T18:55:50.426562",
     "exception": false,
     "start_time": "2023-04-19T18:55:50.394499",
     "status": "completed"
    },
    "tags": []
   },
   "outputs": [
    {
     "data": {
      "text/html": [
       "<div>\n",
       "<style scoped>\n",
       "    .dataframe tbody tr th:only-of-type {\n",
       "        vertical-align: middle;\n",
       "    }\n",
       "\n",
       "    .dataframe tbody tr th {\n",
       "        vertical-align: top;\n",
       "    }\n",
       "\n",
       "    .dataframe thead th {\n",
       "        text-align: right;\n",
       "    }\n",
       "</style>\n",
       "<table border=\"1\" class=\"dataframe\">\n",
       "  <thead>\n",
       "    <tr style=\"text-align: right;\">\n",
       "      <th></th>\n",
       "      <th>Open</th>\n",
       "      <th>High</th>\n",
       "      <th>Low</th>\n",
       "      <th>Close</th>\n",
       "      <th>Adj Close</th>\n",
       "      <th>Volume</th>\n",
       "    </tr>\n",
       "    <tr>\n",
       "      <th>Date</th>\n",
       "      <th></th>\n",
       "      <th></th>\n",
       "      <th></th>\n",
       "      <th></th>\n",
       "      <th></th>\n",
       "      <th></th>\n",
       "    </tr>\n",
       "  </thead>\n",
       "  <tbody>\n",
       "    <tr>\n",
       "      <th>2010-06-29</th>\n",
       "      <td>1.266667</td>\n",
       "      <td>1.666667</td>\n",
       "      <td>1.169333</td>\n",
       "      <td>1.592667</td>\n",
       "      <td>1.592667</td>\n",
       "      <td>281494500</td>\n",
       "    </tr>\n",
       "    <tr>\n",
       "      <th>2010-06-30</th>\n",
       "      <td>1.719333</td>\n",
       "      <td>2.028000</td>\n",
       "      <td>1.553333</td>\n",
       "      <td>1.588667</td>\n",
       "      <td>1.588667</td>\n",
       "      <td>257806500</td>\n",
       "    </tr>\n",
       "    <tr>\n",
       "      <th>2010-07-01</th>\n",
       "      <td>1.666667</td>\n",
       "      <td>1.728000</td>\n",
       "      <td>1.351333</td>\n",
       "      <td>1.464000</td>\n",
       "      <td>1.464000</td>\n",
       "      <td>123282000</td>\n",
       "    </tr>\n",
       "    <tr>\n",
       "      <th>2010-07-02</th>\n",
       "      <td>1.533333</td>\n",
       "      <td>1.540000</td>\n",
       "      <td>1.247333</td>\n",
       "      <td>1.280000</td>\n",
       "      <td>1.280000</td>\n",
       "      <td>77097000</td>\n",
       "    </tr>\n",
       "    <tr>\n",
       "      <th>2010-07-06</th>\n",
       "      <td>1.333333</td>\n",
       "      <td>1.333333</td>\n",
       "      <td>1.055333</td>\n",
       "      <td>1.074000</td>\n",
       "      <td>1.074000</td>\n",
       "      <td>103003500</td>\n",
       "    </tr>\n",
       "  </tbody>\n",
       "</table>\n",
       "</div>"
      ],
      "text/plain": [
       "                Open      High       Low     Close  Adj Close     Volume\n",
       "Date                                                                    \n",
       "2010-06-29  1.266667  1.666667  1.169333  1.592667   1.592667  281494500\n",
       "2010-06-30  1.719333  2.028000  1.553333  1.588667   1.588667  257806500\n",
       "2010-07-01  1.666667  1.728000  1.351333  1.464000   1.464000  123282000\n",
       "2010-07-02  1.533333  1.540000  1.247333  1.280000   1.280000   77097000\n",
       "2010-07-06  1.333333  1.333333  1.055333  1.074000   1.074000  103003500"
      ]
     },
     "execution_count": 18,
     "metadata": {},
     "output_type": "execute_result"
    }
   ],
   "source": [
    "df_Tesla.head()"
   ]
  },
  {
   "cell_type": "code",
   "execution_count": 19,
   "id": "812c348b",
   "metadata": {
    "execution": {
     "iopub.execute_input": "2023-04-19T18:55:50.458056Z",
     "iopub.status.busy": "2023-04-19T18:55:50.457320Z",
     "iopub.status.idle": "2023-04-19T18:55:50.498266Z",
     "shell.execute_reply": "2023-04-19T18:55:50.496717Z"
    },
    "papermill": {
     "duration": 0.059553,
     "end_time": "2023-04-19T18:55:50.500745",
     "exception": false,
     "start_time": "2023-04-19T18:55:50.441192",
     "status": "completed"
    },
    "tags": []
   },
   "outputs": [
    {
     "data": {
      "text/html": [
       "<div>\n",
       "<style scoped>\n",
       "    .dataframe tbody tr th:only-of-type {\n",
       "        vertical-align: middle;\n",
       "    }\n",
       "\n",
       "    .dataframe tbody tr th {\n",
       "        vertical-align: top;\n",
       "    }\n",
       "\n",
       "    .dataframe thead th {\n",
       "        text-align: right;\n",
       "    }\n",
       "</style>\n",
       "<table border=\"1\" class=\"dataframe\">\n",
       "  <thead>\n",
       "    <tr style=\"text-align: right;\">\n",
       "      <th></th>\n",
       "      <th>Open</th>\n",
       "      <th>High</th>\n",
       "      <th>Low</th>\n",
       "      <th>Close</th>\n",
       "      <th>Adj Close</th>\n",
       "      <th>Volume</th>\n",
       "    </tr>\n",
       "    <tr>\n",
       "      <th>Date</th>\n",
       "      <th></th>\n",
       "      <th></th>\n",
       "      <th></th>\n",
       "      <th></th>\n",
       "      <th></th>\n",
       "      <th></th>\n",
       "    </tr>\n",
       "  </thead>\n",
       "  <tbody>\n",
       "    <tr>\n",
       "      <th>2010-12-31</th>\n",
       "      <td>2.391333</td>\n",
       "      <td>2.428000</td>\n",
       "      <td>2.316667</td>\n",
       "      <td>2.364667</td>\n",
       "      <td>2.364667</td>\n",
       "      <td>281494500</td>\n",
       "    </tr>\n",
       "    <tr>\n",
       "      <th>2011-12-31</th>\n",
       "      <td>2.308667</td>\n",
       "      <td>2.333333</td>\n",
       "      <td>2.268667</td>\n",
       "      <td>2.329333</td>\n",
       "      <td>2.329333</td>\n",
       "      <td>172767000</td>\n",
       "    </tr>\n",
       "    <tr>\n",
       "      <th>2012-12-31</th>\n",
       "      <td>2.546000</td>\n",
       "      <td>2.663333</td>\n",
       "      <td>2.474000</td>\n",
       "      <td>2.534000</td>\n",
       "      <td>2.534000</td>\n",
       "      <td>85206000</td>\n",
       "    </tr>\n",
       "    <tr>\n",
       "      <th>2013-12-31</th>\n",
       "      <td>12.930667</td>\n",
       "      <td>12.966667</td>\n",
       "      <td>12.558000</td>\n",
       "      <td>12.891333</td>\n",
       "      <td>12.891333</td>\n",
       "      <td>557458500</td>\n",
       "    </tr>\n",
       "    <tr>\n",
       "      <th>2014-12-31</th>\n",
       "      <td>19.177999</td>\n",
       "      <td>19.427999</td>\n",
       "      <td>18.693333</td>\n",
       "      <td>19.069332</td>\n",
       "      <td>19.069332</td>\n",
       "      <td>490225500</td>\n",
       "    </tr>\n",
       "    <tr>\n",
       "      <th>2015-12-31</th>\n",
       "      <td>18.680000</td>\n",
       "      <td>19.110001</td>\n",
       "      <td>18.420000</td>\n",
       "      <td>18.817333</td>\n",
       "      <td>18.817333</td>\n",
       "      <td>234744000</td>\n",
       "    </tr>\n",
       "    <tr>\n",
       "      <th>2016-12-31</th>\n",
       "      <td>17.763332</td>\n",
       "      <td>17.955999</td>\n",
       "      <td>16.967333</td>\n",
       "      <td>17.694668</td>\n",
       "      <td>17.694668</td>\n",
       "      <td>356136000</td>\n",
       "    </tr>\n",
       "    <tr>\n",
       "      <th>2017-12-31</th>\n",
       "      <td>25.779333</td>\n",
       "      <td>25.974001</td>\n",
       "      <td>25.290001</td>\n",
       "      <td>25.666668</td>\n",
       "      <td>25.666668</td>\n",
       "      <td>296871000</td>\n",
       "    </tr>\n",
       "    <tr>\n",
       "      <th>2018-12-31</th>\n",
       "      <td>25.000000</td>\n",
       "      <td>25.830667</td>\n",
       "      <td>24.474667</td>\n",
       "      <td>25.304667</td>\n",
       "      <td>25.304667</td>\n",
       "      <td>504745500</td>\n",
       "    </tr>\n",
       "    <tr>\n",
       "      <th>2019-12-31</th>\n",
       "      <td>29.000000</td>\n",
       "      <td>29.020666</td>\n",
       "      <td>28.423332</td>\n",
       "      <td>28.729334</td>\n",
       "      <td>28.729334</td>\n",
       "      <td>450091500</td>\n",
       "    </tr>\n",
       "    <tr>\n",
       "      <th>2020-12-31</th>\n",
       "      <td>233.330002</td>\n",
       "      <td>239.573334</td>\n",
       "      <td>230.373337</td>\n",
       "      <td>235.223328</td>\n",
       "      <td>235.223328</td>\n",
       "      <td>914082000</td>\n",
       "    </tr>\n",
       "    <tr>\n",
       "      <th>2021-12-31</th>\n",
       "      <td>411.470001</td>\n",
       "      <td>414.496674</td>\n",
       "      <td>405.666656</td>\n",
       "      <td>409.970001</td>\n",
       "      <td>409.970001</td>\n",
       "      <td>268189500</td>\n",
       "    </tr>\n",
       "    <tr>\n",
       "      <th>2022-12-31</th>\n",
       "      <td>396.516663</td>\n",
       "      <td>402.666656</td>\n",
       "      <td>378.679993</td>\n",
       "      <td>399.926666</td>\n",
       "      <td>399.926666</td>\n",
       "      <td>221923300</td>\n",
       "    </tr>\n",
       "    <tr>\n",
       "      <th>2023-12-31</th>\n",
       "      <td>211.759995</td>\n",
       "      <td>217.649994</td>\n",
       "      <td>206.110001</td>\n",
       "      <td>214.240005</td>\n",
       "      <td>214.240005</td>\n",
       "      <td>306590600</td>\n",
       "    </tr>\n",
       "  </tbody>\n",
       "</table>\n",
       "</div>"
      ],
      "text/plain": [
       "                  Open        High         Low       Close   Adj Close  \\\n",
       "Date                                                                     \n",
       "2010-12-31    2.391333    2.428000    2.316667    2.364667    2.364667   \n",
       "2011-12-31    2.308667    2.333333    2.268667    2.329333    2.329333   \n",
       "2012-12-31    2.546000    2.663333    2.474000    2.534000    2.534000   \n",
       "2013-12-31   12.930667   12.966667   12.558000   12.891333   12.891333   \n",
       "2014-12-31   19.177999   19.427999   18.693333   19.069332   19.069332   \n",
       "2015-12-31   18.680000   19.110001   18.420000   18.817333   18.817333   \n",
       "2016-12-31   17.763332   17.955999   16.967333   17.694668   17.694668   \n",
       "2017-12-31   25.779333   25.974001   25.290001   25.666668   25.666668   \n",
       "2018-12-31   25.000000   25.830667   24.474667   25.304667   25.304667   \n",
       "2019-12-31   29.000000   29.020666   28.423332   28.729334   28.729334   \n",
       "2020-12-31  233.330002  239.573334  230.373337  235.223328  235.223328   \n",
       "2021-12-31  411.470001  414.496674  405.666656  409.970001  409.970001   \n",
       "2022-12-31  396.516663  402.666656  378.679993  399.926666  399.926666   \n",
       "2023-12-31  211.759995  217.649994  206.110001  214.240005  214.240005   \n",
       "\n",
       "               Volume  \n",
       "Date                   \n",
       "2010-12-31  281494500  \n",
       "2011-12-31  172767000  \n",
       "2012-12-31   85206000  \n",
       "2013-12-31  557458500  \n",
       "2014-12-31  490225500  \n",
       "2015-12-31  234744000  \n",
       "2016-12-31  356136000  \n",
       "2017-12-31  296871000  \n",
       "2018-12-31  504745500  \n",
       "2019-12-31  450091500  \n",
       "2020-12-31  914082000  \n",
       "2021-12-31  268189500  \n",
       "2022-12-31  221923300  \n",
       "2023-12-31  306590600  "
      ]
     },
     "execution_count": 19,
     "metadata": {},
     "output_type": "execute_result"
    }
   ],
   "source": [
    "df_Tesla.resample(rule='A').max()"
   ]
  },
  {
   "cell_type": "code",
   "execution_count": 20,
   "id": "bc4f9804",
   "metadata": {
    "execution": {
     "iopub.execute_input": "2023-04-19T18:55:50.531695Z",
     "iopub.status.busy": "2023-04-19T18:55:50.531252Z",
     "iopub.status.idle": "2023-04-19T18:55:50.551976Z",
     "shell.execute_reply": "2023-04-19T18:55:50.550680Z"
    },
    "papermill": {
     "duration": 0.040056,
     "end_time": "2023-04-19T18:55:50.555218",
     "exception": false,
     "start_time": "2023-04-19T18:55:50.515162",
     "status": "completed"
    },
    "tags": []
   },
   "outputs": [
    {
     "data": {
      "text/html": [
       "<div>\n",
       "<style scoped>\n",
       "    .dataframe tbody tr th:only-of-type {\n",
       "        vertical-align: middle;\n",
       "    }\n",
       "\n",
       "    .dataframe tbody tr th {\n",
       "        vertical-align: top;\n",
       "    }\n",
       "\n",
       "    .dataframe thead th {\n",
       "        text-align: right;\n",
       "    }\n",
       "</style>\n",
       "<table border=\"1\" class=\"dataframe\">\n",
       "  <thead>\n",
       "    <tr style=\"text-align: right;\">\n",
       "      <th></th>\n",
       "      <th>Open</th>\n",
       "      <th>High</th>\n",
       "      <th>Low</th>\n",
       "      <th>Close</th>\n",
       "      <th>Adj Close</th>\n",
       "      <th>Volume</th>\n",
       "    </tr>\n",
       "    <tr>\n",
       "      <th>Date</th>\n",
       "      <th></th>\n",
       "      <th></th>\n",
       "      <th></th>\n",
       "      <th></th>\n",
       "      <th></th>\n",
       "      <th></th>\n",
       "    </tr>\n",
       "  </thead>\n",
       "  <tbody>\n",
       "    <tr>\n",
       "      <th>2010-12-31</th>\n",
       "      <td>2.391333</td>\n",
       "      <td>2.428000</td>\n",
       "      <td>2.316667</td>\n",
       "      <td>2.364667</td>\n",
       "      <td>2.364667</td>\n",
       "      <td>281494500</td>\n",
       "    </tr>\n",
       "    <tr>\n",
       "      <th>2011-12-30</th>\n",
       "      <td>2.308667</td>\n",
       "      <td>2.333333</td>\n",
       "      <td>2.268667</td>\n",
       "      <td>2.329333</td>\n",
       "      <td>2.329333</td>\n",
       "      <td>172767000</td>\n",
       "    </tr>\n",
       "    <tr>\n",
       "      <th>2012-12-31</th>\n",
       "      <td>2.546000</td>\n",
       "      <td>2.663333</td>\n",
       "      <td>2.474000</td>\n",
       "      <td>2.534000</td>\n",
       "      <td>2.534000</td>\n",
       "      <td>85206000</td>\n",
       "    </tr>\n",
       "    <tr>\n",
       "      <th>2013-12-31</th>\n",
       "      <td>12.930667</td>\n",
       "      <td>12.966667</td>\n",
       "      <td>12.558000</td>\n",
       "      <td>12.891333</td>\n",
       "      <td>12.891333</td>\n",
       "      <td>557458500</td>\n",
       "    </tr>\n",
       "    <tr>\n",
       "      <th>2014-12-31</th>\n",
       "      <td>19.177999</td>\n",
       "      <td>19.427999</td>\n",
       "      <td>18.693333</td>\n",
       "      <td>19.069332</td>\n",
       "      <td>19.069332</td>\n",
       "      <td>490225500</td>\n",
       "    </tr>\n",
       "    <tr>\n",
       "      <th>2015-12-31</th>\n",
       "      <td>18.680000</td>\n",
       "      <td>19.110001</td>\n",
       "      <td>18.420000</td>\n",
       "      <td>18.817333</td>\n",
       "      <td>18.817333</td>\n",
       "      <td>234744000</td>\n",
       "    </tr>\n",
       "    <tr>\n",
       "      <th>2016-12-30</th>\n",
       "      <td>17.763332</td>\n",
       "      <td>17.955999</td>\n",
       "      <td>16.967333</td>\n",
       "      <td>17.694668</td>\n",
       "      <td>17.694668</td>\n",
       "      <td>356136000</td>\n",
       "    </tr>\n",
       "    <tr>\n",
       "      <th>2017-12-29</th>\n",
       "      <td>25.779333</td>\n",
       "      <td>25.974001</td>\n",
       "      <td>25.290001</td>\n",
       "      <td>25.666668</td>\n",
       "      <td>25.666668</td>\n",
       "      <td>296871000</td>\n",
       "    </tr>\n",
       "    <tr>\n",
       "      <th>2018-12-31</th>\n",
       "      <td>25.000000</td>\n",
       "      <td>25.830667</td>\n",
       "      <td>24.474667</td>\n",
       "      <td>25.304667</td>\n",
       "      <td>25.304667</td>\n",
       "      <td>504745500</td>\n",
       "    </tr>\n",
       "    <tr>\n",
       "      <th>2019-12-31</th>\n",
       "      <td>29.000000</td>\n",
       "      <td>29.020666</td>\n",
       "      <td>28.423332</td>\n",
       "      <td>28.729334</td>\n",
       "      <td>28.729334</td>\n",
       "      <td>450091500</td>\n",
       "    </tr>\n",
       "    <tr>\n",
       "      <th>2020-12-31</th>\n",
       "      <td>233.330002</td>\n",
       "      <td>239.573334</td>\n",
       "      <td>230.373337</td>\n",
       "      <td>235.223328</td>\n",
       "      <td>235.223328</td>\n",
       "      <td>914082000</td>\n",
       "    </tr>\n",
       "    <tr>\n",
       "      <th>2021-12-31</th>\n",
       "      <td>411.470001</td>\n",
       "      <td>414.496674</td>\n",
       "      <td>405.666656</td>\n",
       "      <td>409.970001</td>\n",
       "      <td>409.970001</td>\n",
       "      <td>268189500</td>\n",
       "    </tr>\n",
       "    <tr>\n",
       "      <th>2022-12-30</th>\n",
       "      <td>396.516663</td>\n",
       "      <td>402.666656</td>\n",
       "      <td>378.679993</td>\n",
       "      <td>399.926666</td>\n",
       "      <td>399.926666</td>\n",
       "      <td>221923300</td>\n",
       "    </tr>\n",
       "    <tr>\n",
       "      <th>2023-12-29</th>\n",
       "      <td>211.759995</td>\n",
       "      <td>217.649994</td>\n",
       "      <td>206.110001</td>\n",
       "      <td>214.240005</td>\n",
       "      <td>214.240005</td>\n",
       "      <td>306590600</td>\n",
       "    </tr>\n",
       "  </tbody>\n",
       "</table>\n",
       "</div>"
      ],
      "text/plain": [
       "                  Open        High         Low       Close   Adj Close  \\\n",
       "Date                                                                     \n",
       "2010-12-31    2.391333    2.428000    2.316667    2.364667    2.364667   \n",
       "2011-12-30    2.308667    2.333333    2.268667    2.329333    2.329333   \n",
       "2012-12-31    2.546000    2.663333    2.474000    2.534000    2.534000   \n",
       "2013-12-31   12.930667   12.966667   12.558000   12.891333   12.891333   \n",
       "2014-12-31   19.177999   19.427999   18.693333   19.069332   19.069332   \n",
       "2015-12-31   18.680000   19.110001   18.420000   18.817333   18.817333   \n",
       "2016-12-30   17.763332   17.955999   16.967333   17.694668   17.694668   \n",
       "2017-12-29   25.779333   25.974001   25.290001   25.666668   25.666668   \n",
       "2018-12-31   25.000000   25.830667   24.474667   25.304667   25.304667   \n",
       "2019-12-31   29.000000   29.020666   28.423332   28.729334   28.729334   \n",
       "2020-12-31  233.330002  239.573334  230.373337  235.223328  235.223328   \n",
       "2021-12-31  411.470001  414.496674  405.666656  409.970001  409.970001   \n",
       "2022-12-30  396.516663  402.666656  378.679993  399.926666  399.926666   \n",
       "2023-12-29  211.759995  217.649994  206.110001  214.240005  214.240005   \n",
       "\n",
       "               Volume  \n",
       "Date                   \n",
       "2010-12-31  281494500  \n",
       "2011-12-30  172767000  \n",
       "2012-12-31   85206000  \n",
       "2013-12-31  557458500  \n",
       "2014-12-31  490225500  \n",
       "2015-12-31  234744000  \n",
       "2016-12-30  356136000  \n",
       "2017-12-29  296871000  \n",
       "2018-12-31  504745500  \n",
       "2019-12-31  450091500  \n",
       "2020-12-31  914082000  \n",
       "2021-12-31  268189500  \n",
       "2022-12-30  221923300  \n",
       "2023-12-29  306590600  "
      ]
     },
     "execution_count": 20,
     "metadata": {},
     "output_type": "execute_result"
    }
   ],
   "source": [
    "df_Tesla.resample(rule='BA').max()"
   ]
  },
  {
   "cell_type": "code",
   "execution_count": 21,
   "id": "17a7eea6",
   "metadata": {
    "execution": {
     "iopub.execute_input": "2023-04-19T18:55:50.588257Z",
     "iopub.status.busy": "2023-04-19T18:55:50.587837Z",
     "iopub.status.idle": "2023-04-19T18:55:50.888131Z",
     "shell.execute_reply": "2023-04-19T18:55:50.886709Z"
    },
    "papermill": {
     "duration": 0.320796,
     "end_time": "2023-04-19T18:55:50.890882",
     "exception": false,
     "start_time": "2023-04-19T18:55:50.570086",
     "status": "completed"
    },
    "tags": []
   },
   "outputs": [
    {
     "data": {
      "text/plain": [
       "<AxesSubplot:xlabel='Date'>"
      ]
     },
     "execution_count": 21,
     "metadata": {},
     "output_type": "execute_result"
    },
    {
     "data": {
      "image/png": "[encoded data removed]",
      "text/plain": [
       "<Figure size 640x480 with 1 Axes>"
      ]
     },
     "metadata": {},
     "output_type": "display_data"
    }
   ],
   "source": [
    "df_Tesla['Open'].resample(rule='A').mean().plot(kind='bar')"
   ]
  },
  {
   "cell_type": "code",
   "execution_count": 22,
   "id": "d4509268",
   "metadata": {
    "execution": {
     "iopub.execute_input": "2023-04-19T18:55:50.923733Z",
     "iopub.status.busy": "2023-04-19T18:55:50.923346Z",
     "iopub.status.idle": "2023-04-19T18:55:50.938030Z",
     "shell.execute_reply": "2023-04-19T18:55:50.936848Z"
    },
    "papermill": {
     "duration": 0.033994,
     "end_time": "2023-04-19T18:55:50.940402",
     "exception": false,
     "start_time": "2023-04-19T18:55:50.906408",
     "status": "completed"
    },
    "tags": []
   },
   "outputs": [
    {
     "data": {
      "text/plain": [
       "Date\n",
       "2010-06-30      1.719333\n",
       "2010-07-31      1.666667\n",
       "2010-08-31      1.463333\n",
       "2010-09-30      1.476667\n",
       "2010-10-31      1.426000\n",
       "                 ...    \n",
       "2022-12-31    197.080002\n",
       "2023-01-31    178.050003\n",
       "2023-02-28    211.759995\n",
       "2023-03-31    206.210007\n",
       "2023-04-30    199.910004\n",
       "Freq: M, Name: Open, Length: 155, dtype: float64"
      ]
     },
     "execution_count": 22,
     "metadata": {},
     "output_type": "execute_result"
    }
   ],
   "source": [
    "df_Tesla['Open'].resample(rule='M').max()"
   ]
  },
  {
   "cell_type": "code",
   "execution_count": null,
   "id": "627652b6",
   "metadata": {
    "papermill": {
     "duration": 0.014756,
     "end_time": "2023-04-19T18:55:50.970481",
     "exception": false,
     "start_time": "2023-04-19T18:55:50.955725",
     "status": "completed"
    },
    "tags": []
   },
   "outputs": [],
   "source": []
  },
  {
   "cell_type": "code",
   "execution_count": 23,
   "id": "675dc361",
   "metadata": {
    "execution": {
     "iopub.execute_input": "2023-04-19T18:55:51.002647Z",
     "iopub.status.busy": "2023-04-19T18:55:51.002252Z",
     "iopub.status.idle": "2023-04-19T18:55:51.012245Z",
     "shell.execute_reply": "2023-04-19T18:55:51.011161Z"
    },
    "papermill": {
     "duration": 0.029349,
     "end_time": "2023-04-19T18:55:51.014957",
     "exception": false,
     "start_time": "2023-04-19T18:55:50.985608",
     "status": "completed"
    },
    "tags": []
   },
   "outputs": [
    {
     "data": {
      "text/plain": [
       "Date\n",
       "2010-06-29         NaN\n",
       "2010-06-30         NaN\n",
       "2010-07-01         NaN\n",
       "2010-07-02         NaN\n",
       "2010-07-06         NaN\n",
       "2010-07-07         NaN\n",
       "2010-07-08         NaN\n",
       "2010-07-09         NaN\n",
       "2010-07-12         NaN\n",
       "2010-07-13    1.421333\n",
       "2010-07-14    1.389000\n",
       "2010-07-15    1.329533\n",
       "2010-07-16    1.298733\n",
       "2010-07-19    1.293067\n",
       "2010-07-20    1.305400\n",
       "2010-07-21    1.333867\n",
       "2010-07-22    1.358733\n",
       "2010-07-23    1.383133\n",
       "2010-07-26    1.406000\n",
       "2010-07-27    1.422933\n",
       "Name: High, dtype: float64"
      ]
     },
     "execution_count": 23,
     "metadata": {},
     "output_type": "execute_result"
    }
   ],
   "source": [
    "df_Tesla['High'].rolling(10).mean().head(20)"
   ]
  },
  {
   "cell_type": "code",
   "execution_count": 24,
   "id": "4d875427",
   "metadata": {
    "execution": {
     "iopub.execute_input": "2023-04-19T18:55:51.049334Z",
     "iopub.status.busy": "2023-04-19T18:55:51.048536Z",
     "iopub.status.idle": "2023-04-19T18:55:51.055468Z",
     "shell.execute_reply": "2023-04-19T18:55:51.054446Z"
    },
    "papermill": {
     "duration": 0.027442,
     "end_time": "2023-04-19T18:55:51.058324",
     "exception": false,
     "start_time": "2023-04-19T18:55:51.030882",
     "status": "completed"
    },
    "tags": []
   },
   "outputs": [],
   "source": [
    "df_Tesla['Open: 10 days rolling'] = df_Tesla['Open'].rolling(window=10, min_periods=1).mean()"
   ]
  },
  {
   "cell_type": "code",
   "execution_count": 25,
   "id": "e876af99",
   "metadata": {
    "execution": {
     "iopub.execute_input": "2023-04-19T18:55:51.093095Z",
     "iopub.status.busy": "2023-04-19T18:55:51.092643Z",
     "iopub.status.idle": "2023-04-19T18:55:51.112918Z",
     "shell.execute_reply": "2023-04-19T18:55:51.111832Z"
    },
    "papermill": {
     "duration": 0.040996,
     "end_time": "2023-04-19T18:55:51.115496",
     "exception": false,
     "start_time": "2023-04-19T18:55:51.074500",
     "status": "completed"
    },
    "tags": []
   },
   "outputs": [
    {
     "data": {
      "text/html": [
       "<div>\n",
       "<style scoped>\n",
       "    .dataframe tbody tr th:only-of-type {\n",
       "        vertical-align: middle;\n",
       "    }\n",
       "\n",
       "    .dataframe tbody tr th {\n",
       "        vertical-align: top;\n",
       "    }\n",
       "\n",
       "    .dataframe thead th {\n",
       "        text-align: right;\n",
       "    }\n",
       "</style>\n",
       "<table border=\"1\" class=\"dataframe\">\n",
       "  <thead>\n",
       "    <tr style=\"text-align: right;\">\n",
       "      <th></th>\n",
       "      <th>Open</th>\n",
       "      <th>High</th>\n",
       "      <th>Low</th>\n",
       "      <th>Close</th>\n",
       "      <th>Adj Close</th>\n",
       "      <th>Volume</th>\n",
       "      <th>Open: 10 days rolling</th>\n",
       "    </tr>\n",
       "    <tr>\n",
       "      <th>Date</th>\n",
       "      <th></th>\n",
       "      <th></th>\n",
       "      <th></th>\n",
       "      <th></th>\n",
       "      <th></th>\n",
       "      <th></th>\n",
       "      <th></th>\n",
       "    </tr>\n",
       "  </thead>\n",
       "  <tbody>\n",
       "    <tr>\n",
       "      <th>2010-06-29</th>\n",
       "      <td>1.266667</td>\n",
       "      <td>1.666667</td>\n",
       "      <td>1.169333</td>\n",
       "      <td>1.592667</td>\n",
       "      <td>1.592667</td>\n",
       "      <td>281494500</td>\n",
       "      <td>1.266667</td>\n",
       "    </tr>\n",
       "    <tr>\n",
       "      <th>2010-06-30</th>\n",
       "      <td>1.719333</td>\n",
       "      <td>2.028000</td>\n",
       "      <td>1.553333</td>\n",
       "      <td>1.588667</td>\n",
       "      <td>1.588667</td>\n",
       "      <td>257806500</td>\n",
       "      <td>1.493000</td>\n",
       "    </tr>\n",
       "    <tr>\n",
       "      <th>2010-07-01</th>\n",
       "      <td>1.666667</td>\n",
       "      <td>1.728000</td>\n",
       "      <td>1.351333</td>\n",
       "      <td>1.464000</td>\n",
       "      <td>1.464000</td>\n",
       "      <td>123282000</td>\n",
       "      <td>1.550889</td>\n",
       "    </tr>\n",
       "    <tr>\n",
       "      <th>2010-07-02</th>\n",
       "      <td>1.533333</td>\n",
       "      <td>1.540000</td>\n",
       "      <td>1.247333</td>\n",
       "      <td>1.280000</td>\n",
       "      <td>1.280000</td>\n",
       "      <td>77097000</td>\n",
       "      <td>1.546500</td>\n",
       "    </tr>\n",
       "    <tr>\n",
       "      <th>2010-07-06</th>\n",
       "      <td>1.333333</td>\n",
       "      <td>1.333333</td>\n",
       "      <td>1.055333</td>\n",
       "      <td>1.074000</td>\n",
       "      <td>1.074000</td>\n",
       "      <td>103003500</td>\n",
       "      <td>1.503867</td>\n",
       "    </tr>\n",
       "    <tr>\n",
       "      <th>2010-07-07</th>\n",
       "      <td>1.093333</td>\n",
       "      <td>1.108667</td>\n",
       "      <td>0.998667</td>\n",
       "      <td>1.053333</td>\n",
       "      <td>1.053333</td>\n",
       "      <td>103825500</td>\n",
       "      <td>1.435444</td>\n",
       "    </tr>\n",
       "    <tr>\n",
       "      <th>2010-07-08</th>\n",
       "      <td>1.076000</td>\n",
       "      <td>1.168000</td>\n",
       "      <td>1.038000</td>\n",
       "      <td>1.164000</td>\n",
       "      <td>1.164000</td>\n",
       "      <td>115671000</td>\n",
       "      <td>1.384095</td>\n",
       "    </tr>\n",
       "    <tr>\n",
       "      <th>2010-07-09</th>\n",
       "      <td>1.172000</td>\n",
       "      <td>1.193333</td>\n",
       "      <td>1.103333</td>\n",
       "      <td>1.160000</td>\n",
       "      <td>1.160000</td>\n",
       "      <td>60759000</td>\n",
       "      <td>1.357583</td>\n",
       "    </tr>\n",
       "    <tr>\n",
       "      <th>2010-07-12</th>\n",
       "      <td>1.196667</td>\n",
       "      <td>1.204667</td>\n",
       "      <td>1.133333</td>\n",
       "      <td>1.136667</td>\n",
       "      <td>1.136667</td>\n",
       "      <td>33037500</td>\n",
       "      <td>1.339704</td>\n",
       "    </tr>\n",
       "    <tr>\n",
       "      <th>2010-07-13</th>\n",
       "      <td>1.159333</td>\n",
       "      <td>1.242667</td>\n",
       "      <td>1.126667</td>\n",
       "      <td>1.209333</td>\n",
       "      <td>1.209333</td>\n",
       "      <td>40201500</td>\n",
       "      <td>1.321667</td>\n",
       "    </tr>\n",
       "    <tr>\n",
       "      <th>2010-07-14</th>\n",
       "      <td>1.196000</td>\n",
       "      <td>1.343333</td>\n",
       "      <td>1.184000</td>\n",
       "      <td>1.322667</td>\n",
       "      <td>1.322667</td>\n",
       "      <td>62928000</td>\n",
       "      <td>1.314600</td>\n",
       "    </tr>\n",
       "    <tr>\n",
       "      <th>2010-07-15</th>\n",
       "      <td>1.329333</td>\n",
       "      <td>1.433333</td>\n",
       "      <td>1.266667</td>\n",
       "      <td>1.326000</td>\n",
       "      <td>1.326000</td>\n",
       "      <td>56097000</td>\n",
       "      <td>1.275600</td>\n",
       "    </tr>\n",
       "    <tr>\n",
       "      <th>2010-07-16</th>\n",
       "      <td>1.380000</td>\n",
       "      <td>1.420000</td>\n",
       "      <td>1.336667</td>\n",
       "      <td>1.376000</td>\n",
       "      <td>1.376000</td>\n",
       "      <td>39319500</td>\n",
       "      <td>1.246933</td>\n",
       "    </tr>\n",
       "    <tr>\n",
       "      <th>2010-07-19</th>\n",
       "      <td>1.424667</td>\n",
       "      <td>1.483333</td>\n",
       "      <td>1.394667</td>\n",
       "      <td>1.460667</td>\n",
       "      <td>1.460667</td>\n",
       "      <td>37297500</td>\n",
       "      <td>1.236067</td>\n",
       "    </tr>\n",
       "    <tr>\n",
       "      <th>2010-07-20</th>\n",
       "      <td>1.456667</td>\n",
       "      <td>1.456667</td>\n",
       "      <td>1.336667</td>\n",
       "      <td>1.353333</td>\n",
       "      <td>1.353333</td>\n",
       "      <td>27379500</td>\n",
       "      <td>1.248400</td>\n",
       "    </tr>\n",
       "    <tr>\n",
       "      <th>2010-07-21</th>\n",
       "      <td>1.377333</td>\n",
       "      <td>1.393333</td>\n",
       "      <td>1.300000</td>\n",
       "      <td>1.348000</td>\n",
       "      <td>1.348000</td>\n",
       "      <td>18787500</td>\n",
       "      <td>1.276800</td>\n",
       "    </tr>\n",
       "    <tr>\n",
       "      <th>2010-07-22</th>\n",
       "      <td>1.366667</td>\n",
       "      <td>1.416667</td>\n",
       "      <td>1.358000</td>\n",
       "      <td>1.400000</td>\n",
       "      <td>1.400000</td>\n",
       "      <td>14367000</td>\n",
       "      <td>1.305867</td>\n",
       "    </tr>\n",
       "    <tr>\n",
       "      <th>2010-07-23</th>\n",
       "      <td>1.412667</td>\n",
       "      <td>1.437333</td>\n",
       "      <td>1.404000</td>\n",
       "      <td>1.419333</td>\n",
       "      <td>1.419333</td>\n",
       "      <td>9804000</td>\n",
       "      <td>1.329933</td>\n",
       "    </tr>\n",
       "    <tr>\n",
       "      <th>2010-07-26</th>\n",
       "      <td>1.433333</td>\n",
       "      <td>1.433333</td>\n",
       "      <td>1.353333</td>\n",
       "      <td>1.396667</td>\n",
       "      <td>1.396667</td>\n",
       "      <td>13833000</td>\n",
       "      <td>1.353600</td>\n",
       "    </tr>\n",
       "    <tr>\n",
       "      <th>2010-07-27</th>\n",
       "      <td>1.394000</td>\n",
       "      <td>1.412000</td>\n",
       "      <td>1.350667</td>\n",
       "      <td>1.370000</td>\n",
       "      <td>1.370000</td>\n",
       "      <td>9295500</td>\n",
       "      <td>1.377067</td>\n",
       "    </tr>\n",
       "  </tbody>\n",
       "</table>\n",
       "</div>"
      ],
      "text/plain": [
       "                Open      High       Low     Close  Adj Close     Volume  \\\n",
       "Date                                                                       \n",
       "2010-06-29  1.266667  1.666667  1.169333  1.592667   1.592667  281494500   \n",
       "2010-06-30  1.719333  2.028000  1.553333  1.588667   1.588667  257806500   \n",
       "2010-07-01  1.666667  1.728000  1.351333  1.464000   1.464000  123282000   \n",
       "2010-07-02  1.533333  1.540000  1.247333  1.280000   1.280000   77097000   \n",
       "2010-07-06  1.333333  1.333333  1.055333  1.074000   1.074000  103003500   \n",
       "2010-07-07  1.093333  1.108667  0.998667  1.053333   1.053333  103825500   \n",
       "2010-07-08  1.076000  1.168000  1.038000  1.164000   1.164000  115671000   \n",
       "2010-07-09  1.172000  1.193333  1.103333  1.160000   1.160000   60759000   \n",
       "2010-07-12  1.196667  1.204667  1.133333  1.136667   1.136667   33037500   \n",
       "2010-07-13  1.159333  1.242667  1.126667  1.209333   1.209333   40201500   \n",
       "2010-07-14  1.196000  1.343333  1.184000  1.322667   1.322667   62928000   \n",
       "2010-07-15  1.329333  1.433333  1.266667  1.326000   1.326000   56097000   \n",
       "2010-07-16  1.380000  1.420000  1.336667  1.376000   1.376000   39319500   \n",
       "2010-07-19  1.424667  1.483333  1.394667  1.460667   1.460667   37297500   \n",
       "2010-07-20  1.456667  1.456667  1.336667  1.353333   1.353333   27379500   \n",
       "2010-07-21  1.377333  1.393333  1.300000  1.348000   1.348000   18787500   \n",
       "2010-07-22  1.366667  1.416667  1.358000  1.400000   1.400000   14367000   \n",
       "2010-07-23  1.412667  1.437333  1.404000  1.419333   1.419333    9804000   \n",
       "2010-07-26  1.433333  1.433333  1.353333  1.396667   1.396667   13833000   \n",
       "2010-07-27  1.394000  1.412000  1.350667  1.370000   1.370000    9295500   \n",
       "\n",
       "            Open: 10 days rolling  \n",
       "Date                               \n",
       "2010-06-29               1.266667  \n",
       "2010-06-30               1.493000  \n",
       "2010-07-01               1.550889  \n",
       "2010-07-02               1.546500  \n",
       "2010-07-06               1.503867  \n",
       "2010-07-07               1.435444  \n",
       "2010-07-08               1.384095  \n",
       "2010-07-09               1.357583  \n",
       "2010-07-12               1.339704  \n",
       "2010-07-13               1.321667  \n",
       "2010-07-14               1.314600  \n",
       "2010-07-15               1.275600  \n",
       "2010-07-16               1.246933  \n",
       "2010-07-19               1.236067  \n",
       "2010-07-20               1.248400  \n",
       "2010-07-21               1.276800  \n",
       "2010-07-22               1.305867  \n",
       "2010-07-23               1.329933  \n",
       "2010-07-26               1.353600  \n",
       "2010-07-27               1.377067  "
      ]
     },
     "execution_count": 25,
     "metadata": {},
     "output_type": "execute_result"
    }
   ],
   "source": [
    "df_Tesla.head(20)"
   ]
  },
  {
   "cell_type": "code",
   "execution_count": 26,
   "id": "375f5fbc",
   "metadata": {
    "execution": {
     "iopub.execute_input": "2023-04-19T18:55:51.150638Z",
     "iopub.status.busy": "2023-04-19T18:55:51.149765Z",
     "iopub.status.idle": "2023-04-19T18:55:51.499118Z",
     "shell.execute_reply": "2023-04-19T18:55:51.497848Z"
    },
    "papermill": {
     "duration": 0.369946,
     "end_time": "2023-04-19T18:55:51.501846",
     "exception": false,
     "start_time": "2023-04-19T18:55:51.131900",
     "status": "completed"
    },
    "tags": []
   },
   "outputs": [
    {
     "data": {
      "text/plain": [
       "<AxesSubplot:xlabel='Date'>"
      ]
     },
     "execution_count": 26,
     "metadata": {},
     "output_type": "execute_result"
    },
    {
     "data": {
      "image/png": "[encoded data removed]",
      "text/plain": [
       "<Figure size 1200x500 with 1 Axes>"
      ]
     },
     "metadata": {},
     "output_type": "display_data"
    }
   ],
   "source": [
    "df_Tesla[['Open', 'Open: 10 days rolling']].plot(figsize=(12, 5))"
   ]
  },
  {
   "cell_type": "code",
   "execution_count": 27,
   "id": "86fe5aef",
   "metadata": {
    "execution": {
     "iopub.execute_input": "2023-04-19T18:55:51.538398Z",
     "iopub.status.busy": "2023-04-19T18:55:51.537967Z",
     "iopub.status.idle": "2023-04-19T18:55:51.546778Z",
     "shell.execute_reply": "2023-04-19T18:55:51.545342Z"
    },
    "papermill": {
     "duration": 0.03066,
     "end_time": "2023-04-19T18:55:51.549668",
     "exception": false,
     "start_time": "2023-04-19T18:55:51.519008",
     "status": "completed"
    },
    "tags": []
   },
   "outputs": [],
   "source": [
    "df_Tesla['Open: 30 days rolling'] = df_Tesla['Open'].rolling(window=30, min_periods=1).mean()\n",
    "df_Tesla['Open: 50 days rolling'] = df_Tesla['Open'].rolling(window=50, min_periods=1).mean()"
   ]
  },
  {
   "cell_type": "code",
   "execution_count": 28,
   "id": "a8088f7e",
   "metadata": {
    "execution": {
     "iopub.execute_input": "2023-04-19T18:55:51.585329Z",
     "iopub.status.busy": "2023-04-19T18:55:51.584897Z",
     "iopub.status.idle": "2023-04-19T18:55:51.940584Z",
     "shell.execute_reply": "2023-04-19T18:55:51.939259Z"
    },
    "papermill": {
     "duration": 0.376958,
     "end_time": "2023-04-19T18:55:51.943503",
     "exception": false,
     "start_time": "2023-04-19T18:55:51.566545",
     "status": "completed"
    },
    "tags": []
   },
   "outputs": [
    {
     "data": {
      "text/plain": [
       "<AxesSubplot:xlabel='Date'>"
      ]
     },
     "execution_count": 28,
     "metadata": {},
     "output_type": "execute_result"
    },
    {
     "data": {
      "image/png": "[encoded data removed]",
      "text/plain": [
       "<Figure size 1200x500 with 1 Axes>"
      ]
     },
     "metadata": {},
     "output_type": "display_data"
    }
   ],
   "source": [
    "df_Tesla[['Open', 'Open: 10 days rolling', 'Open: 30 days rolling', 'Open: 50 days rolling']].plot(xlim=['2020-01-01', '2021-01-01'], figsize=(12, 5))"
   ]
  },
  {
   "cell_type": "code",
   "execution_count": 29,
   "id": "b8a56f2b",
   "metadata": {
    "execution": {
     "iopub.execute_input": "2023-04-19T18:55:51.982462Z",
     "iopub.status.busy": "2023-04-19T18:55:51.982062Z",
     "iopub.status.idle": "2023-04-19T18:55:52.282160Z",
     "shell.execute_reply": "2023-04-19T18:55:52.280743Z"
    },
    "papermill": {
     "duration": 0.323209,
     "end_time": "2023-04-19T18:55:52.284991",
     "exception": false,
     "start_time": "2023-04-19T18:55:51.961782",
     "status": "completed"
    },
    "tags": []
   },
   "outputs": [
    {
     "data": {
      "text/plain": [
       "<AxesSubplot:xlabel='Date'>"
      ]
     },
     "execution_count": 29,
     "metadata": {},
     "output_type": "execute_result"
    },
    {
     "data": {
      "image/png": "[encoded data removed]",
      "text/plain": [
       "<Figure size 1200x500 with 1 Axes>"
      ]
     },
     "metadata": {},
     "output_type": "display_data"
    }
   ],
   "source": [
    "df_Tesla['Open'].expanding().mean().plot(figsize=(12, 5))"
   ]
  },
  {
   "cell_type": "code",
   "execution_count": 30,
   "id": "cde29f8e",
   "metadata": {
    "execution": {
     "iopub.execute_input": "2023-04-19T18:55:52.324975Z",
     "iopub.status.busy": "2023-04-19T18:55:52.324511Z",
     "iopub.status.idle": "2023-04-19T18:55:52.332061Z",
     "shell.execute_reply": "2023-04-19T18:55:52.330672Z"
    },
    "papermill": {
     "duration": 0.030807,
     "end_time": "2023-04-19T18:55:52.334576",
     "exception": false,
     "start_time": "2023-04-19T18:55:52.303769",
     "status": "completed"
    },
    "tags": []
   },
   "outputs": [],
   "source": [
    "df_Tesla['EMA_0.1'] = df_Tesla['Open'].ewm(alpha=0.1, adjust=False).mean()"
   ]
  },
  {
   "cell_type": "code",
   "execution_count": 31,
   "id": "2791b077",
   "metadata": {
    "execution": {
     "iopub.execute_input": "2023-04-19T18:55:52.374145Z",
     "iopub.status.busy": "2023-04-19T18:55:52.373673Z",
     "iopub.status.idle": "2023-04-19T18:55:52.683160Z",
     "shell.execute_reply": "2023-04-19T18:55:52.681806Z"
    },
    "papermill": {
     "duration": 0.332637,
     "end_time": "2023-04-19T18:55:52.686016",
     "exception": false,
     "start_time": "2023-04-19T18:55:52.353379",
     "status": "completed"
    },
    "tags": []
   },
   "outputs": [
    {
     "data": {
      "text/plain": [
       "<AxesSubplot:xlabel='Date'>"
      ]
     },
     "execution_count": 31,
     "metadata": {},
     "output_type": "execute_result"
    },
    {
     "data": {
      "image/png": "[encoded data removed]",
      "text/plain": [
       "<Figure size 1200x500 with 1 Axes>"
      ]
     },
     "metadata": {},
     "output_type": "display_data"
    }
   ],
   "source": [
    "df_Tesla[['Open', 'EMA_0.1']].plot(xlim=['2020-01-01', '2021-01-01'], figsize=(12, 5))"
   ]
  },
  {
   "cell_type": "code",
   "execution_count": 32,
   "id": "98527038",
   "metadata": {
    "execution": {
     "iopub.execute_input": "2023-04-19T18:55:52.729128Z",
     "iopub.status.busy": "2023-04-19T18:55:52.728338Z",
     "iopub.status.idle": "2023-04-19T18:55:53.151240Z",
     "shell.execute_reply": "2023-04-19T18:55:53.149906Z"
    },
    "papermill": {
     "duration": 0.447504,
     "end_time": "2023-04-19T18:55:53.153815",
     "exception": false,
     "start_time": "2023-04-19T18:55:52.706311",
     "status": "completed"
    },
    "tags": []
   },
   "outputs": [
    {
     "name": "stdout",
     "output_type": "stream",
     "text": [
      "[*********************100%***********************]  1 of 1 completed\n"
     ]
    },
    {
     "data": {
      "text/html": [
       "<div>\n",
       "<style scoped>\n",
       "    .dataframe tbody tr th:only-of-type {\n",
       "        vertical-align: middle;\n",
       "    }\n",
       "\n",
       "    .dataframe tbody tr th {\n",
       "        vertical-align: top;\n",
       "    }\n",
       "\n",
       "    .dataframe thead th {\n",
       "        text-align: right;\n",
       "    }\n",
       "</style>\n",
       "<table border=\"1\" class=\"dataframe\">\n",
       "  <thead>\n",
       "    <tr style=\"text-align: right;\">\n",
       "      <th></th>\n",
       "      <th>Open</th>\n",
       "      <th>High</th>\n",
       "      <th>Low</th>\n",
       "      <th>Close</th>\n",
       "      <th>Adj Close</th>\n",
       "      <th>Volume</th>\n",
       "    </tr>\n",
       "    <tr>\n",
       "      <th>Date</th>\n",
       "      <th></th>\n",
       "      <th></th>\n",
       "      <th></th>\n",
       "      <th></th>\n",
       "      <th></th>\n",
       "      <th></th>\n",
       "    </tr>\n",
       "  </thead>\n",
       "  <tbody>\n",
       "    <tr>\n",
       "      <th>1986-03-13</th>\n",
       "      <td>0.088542</td>\n",
       "      <td>0.101563</td>\n",
       "      <td>0.088542</td>\n",
       "      <td>0.097222</td>\n",
       "      <td>0.060657</td>\n",
       "      <td>1031788800</td>\n",
       "    </tr>\n",
       "    <tr>\n",
       "      <th>1986-03-14</th>\n",
       "      <td>0.097222</td>\n",
       "      <td>0.102431</td>\n",
       "      <td>0.097222</td>\n",
       "      <td>0.100694</td>\n",
       "      <td>0.062823</td>\n",
       "      <td>308160000</td>\n",
       "    </tr>\n",
       "    <tr>\n",
       "      <th>1986-03-17</th>\n",
       "      <td>0.100694</td>\n",
       "      <td>0.103299</td>\n",
       "      <td>0.100694</td>\n",
       "      <td>0.102431</td>\n",
       "      <td>0.063907</td>\n",
       "      <td>133171200</td>\n",
       "    </tr>\n",
       "    <tr>\n",
       "      <th>1986-03-18</th>\n",
       "      <td>0.102431</td>\n",
       "      <td>0.103299</td>\n",
       "      <td>0.098958</td>\n",
       "      <td>0.099826</td>\n",
       "      <td>0.062281</td>\n",
       "      <td>67766400</td>\n",
       "    </tr>\n",
       "    <tr>\n",
       "      <th>1986-03-19</th>\n",
       "      <td>0.099826</td>\n",
       "      <td>0.100694</td>\n",
       "      <td>0.097222</td>\n",
       "      <td>0.098090</td>\n",
       "      <td>0.061198</td>\n",
       "      <td>47894400</td>\n",
       "    </tr>\n",
       "  </tbody>\n",
       "</table>\n",
       "</div>"
      ],
      "text/plain": [
       "                Open      High       Low     Close  Adj Close      Volume\n",
       "Date                                                                     \n",
       "1986-03-13  0.088542  0.101563  0.088542  0.097222   0.060657  1031788800\n",
       "1986-03-14  0.097222  0.102431  0.097222  0.100694   0.062823   308160000\n",
       "1986-03-17  0.100694  0.103299  0.100694  0.102431   0.063907   133171200\n",
       "1986-03-18  0.102431  0.103299  0.098958  0.099826   0.062281    67766400\n",
       "1986-03-19  0.099826  0.100694  0.097222  0.098090   0.061198    47894400"
      ]
     },
     "execution_count": 32,
     "metadata": {},
     "output_type": "execute_result"
    }
   ],
   "source": [
    "df_MSFT = pdr.get_data_yahoo('MSFT')\n",
    "\n",
    "df_MSFT.head()"
   ]
  },
  {
   "cell_type": "code",
   "execution_count": 33,
   "id": "df938cff",
   "metadata": {
    "execution": {
     "iopub.execute_input": "2023-04-19T18:55:53.197456Z",
     "iopub.status.busy": "2023-04-19T18:55:53.196361Z",
     "iopub.status.idle": "2023-04-19T18:55:53.208678Z",
     "shell.execute_reply": "2023-04-19T18:55:53.207252Z"
    },
    "papermill": {
     "duration": 0.03774,
     "end_time": "2023-04-19T18:55:53.211711",
     "exception": false,
     "start_time": "2023-04-19T18:55:53.173971",
     "status": "completed"
    },
    "tags": []
   },
   "outputs": [],
   "source": [
    "df_MSFT = df_MSFT.loc['2017-01-01':'2022-09-01']"
   ]
  },
  {
   "cell_type": "code",
   "execution_count": 34,
   "id": "d9ae9d29",
   "metadata": {
    "execution": {
     "iopub.execute_input": "2023-04-19T18:55:53.253557Z",
     "iopub.status.busy": "2023-04-19T18:55:53.252855Z",
     "iopub.status.idle": "2023-04-19T18:55:53.262310Z",
     "shell.execute_reply": "2023-04-19T18:55:53.261116Z"
    },
    "papermill": {
     "duration": 0.033236,
     "end_time": "2023-04-19T18:55:53.264664",
     "exception": false,
     "start_time": "2023-04-19T18:55:53.231428",
     "status": "completed"
    },
    "tags": []
   },
   "outputs": [
    {
     "data": {
      "text/plain": [
       "DatetimeIndex(['2021-11-22'], dtype='datetime64[ns]', name='Date', freq=None)"
      ]
     },
     "execution_count": 34,
     "metadata": {},
     "output_type": "execute_result"
    }
   ],
   "source": [
    "df_MSFT[df_MSFT['Open'] == df_MSFT['Open'].max()].index"
   ]
  },
  {
   "cell_type": "code",
   "execution_count": 35,
   "id": "e1b15ac9",
   "metadata": {
    "execution": {
     "iopub.execute_input": "2023-04-19T18:55:53.306481Z",
     "iopub.status.busy": "2023-04-19T18:55:53.305789Z",
     "iopub.status.idle": "2023-04-19T18:55:53.315007Z",
     "shell.execute_reply": "2023-04-19T18:55:53.313843Z"
    },
    "papermill": {
     "duration": 0.032963,
     "end_time": "2023-04-19T18:55:53.317435",
     "exception": false,
     "start_time": "2023-04-19T18:55:53.284472",
     "status": "completed"
    },
    "tags": []
   },
   "outputs": [
    {
     "data": {
      "text/plain": [
       "DatetimeIndex(['2017-01-05'], dtype='datetime64[ns]', name='Date', freq=None)"
      ]
     },
     "execution_count": 35,
     "metadata": {},
     "output_type": "execute_result"
    }
   ],
   "source": [
    "df_MSFT[df_MSFT['Open'] == df_MSFT['Open'].min()].index"
   ]
  },
  {
   "cell_type": "code",
   "execution_count": null,
   "id": "bafe9da4",
   "metadata": {
    "papermill": {
     "duration": 0.019513,
     "end_time": "2023-04-19T18:55:53.356661",
     "exception": false,
     "start_time": "2023-04-19T18:55:53.337148",
     "status": "completed"
    },
    "tags": []
   },
   "outputs": [],
   "source": []
  }
 ],
 "metadata": {
  "kernelspec": {
   "display_name": "Python 3",
   "language": "python",
   "name": "python3"
  },
  "language_info": {
   "codemirror_mode": {
    "name": "ipython",
    "version": 3
   },
   "file_extension": ".py",
   "mimetype": "text/x-python",
   "name": "python",
   "nbconvert_exporter": "python",
   "pygments_lexer": "ipython3",
   "version": "3.7.12"
  },
  "papermill": {
   "default_parameters": {},
   "duration": 30.983238,
   "end_time": "2023-04-19T18:55:54.198900",
   "environment_variables": {},
   "exception": null,
   "input_path": "__notebook__.ipynb",
   "output_path": "__notebook__.ipynb",
   "parameters": {},
   "start_time": "2023-04-19T18:55:23.215662",
   "version": "2.4.0"
  }
 },
 "nbformat": 4,
 "nbformat_minor": 5
}
